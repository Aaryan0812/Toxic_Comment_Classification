{
 "cells": [
  {
   "cell_type": "markdown",
   "metadata": {
    "id": "wcGq1dF0iWju"
   },
   "source": [
    "# Importing Libraries"
   ]
  },
  {
   "cell_type": "code",
   "execution_count": null,
   "metadata": {
    "id": "iyTgJx85_MUt"
   },
   "outputs": [],
   "source": [
    "#from google.colab import files\n",
    "#uploaded = files.upload()\n"
   ]
  },
  {
   "cell_type": "code",
   "execution_count": 1,
   "metadata": {
    "colab": {
     "base_uri": "https://localhost:8080/"
    },
    "executionInfo": {
     "elapsed": 4661,
     "status": "ok",
     "timestamp": 1652122712410,
     "user": {
      "displayName": "Harsh Attree",
      "userId": "01430067086563950496"
     },
     "user_tz": -330
    },
    "id": "xEXu-mePiK9T",
    "outputId": "a338ca8a-09ee-41c4-9818-d48df6457e92"
   },
   "outputs": [
    {
     "name": "stdout",
     "output_type": "stream",
     "text": [
      "Requirement already satisfied: talos in d:\\new folder\\lib\\site-packages (1.3)\n",
      "Requirement already satisfied: statsmodels>=0.11.0 in d:\\new folder\\lib\\site-packages (from talos) (0.12.2)\n",
      "Requirement already satisfied: wrangle in d:\\new folder\\lib\\site-packages (from talos) (0.7.2)\n",
      "Requirement already satisfied: astetik in d:\\new folder\\lib\\site-packages (from talos) (1.13)\n",
      "Requirement already satisfied: tqdm in d:\\new folder\\lib\\site-packages (from talos) (4.59.0)\n",
      "Requirement already satisfied: pandas in d:\\new folder\\lib\\site-packages (from talos) (1.2.4)\n",
      "Requirement already satisfied: chances in d:\\new folder\\lib\\site-packages (from talos) (0.1.9)\n",
      "Requirement already satisfied: numpy in d:\\new folder\\lib\\site-packages (from talos) (1.22.4)\n",
      "Requirement already satisfied: kerasplotlib in d:\\new folder\\lib\\site-packages (from talos) (1.0)\n",
      "Requirement already satisfied: sklearn in d:\\new folder\\lib\\site-packages (from talos) (0.0.post1)\n",
      "Requirement already satisfied: requests in d:\\new folder\\lib\\site-packages (from talos) (2.25.1)\n",
      "Requirement already satisfied: tensorflow>=2.0.0 in d:\\new folder\\lib\\site-packages (from talos) (2.12.0)\n",
      "Requirement already satisfied: scipy>=1.1 in d:\\new folder\\lib\\site-packages (from statsmodels>=0.11.0->talos) (1.6.2)\n",
      "Requirement already satisfied: patsy>=0.5 in d:\\new folder\\lib\\site-packages (from statsmodels>=0.11.0->talos) (0.5.1)\n",
      "Requirement already satisfied: python-dateutil>=2.7.3 in d:\\new folder\\lib\\site-packages (from pandas->talos) (2.8.1)\n",
      "Requirement already satisfied: pytz>=2017.3 in d:\\new folder\\lib\\site-packages (from pandas->talos) (2021.1)\n",
      "Requirement already satisfied: six in d:\\new folder\\lib\\site-packages (from patsy>=0.5->statsmodels>=0.11.0->talos) (1.15.0)\n",
      "Requirement already satisfied: tensorflow-intel==2.12.0 in d:\\new folder\\lib\\site-packages (from tensorflow>=2.0.0->talos) (2.12.0)\n",
      "Requirement already satisfied: h5py>=2.9.0 in d:\\new folder\\lib\\site-packages (from tensorflow-intel==2.12.0->tensorflow>=2.0.0->talos) (2.10.0)\n",
      "Requirement already satisfied: google-pasta>=0.1.1 in d:\\new folder\\lib\\site-packages (from tensorflow-intel==2.12.0->tensorflow>=2.0.0->talos) (0.2.0)\n",
      "Requirement already satisfied: grpcio<2.0,>=1.24.3 in d:\\new folder\\lib\\site-packages (from tensorflow-intel==2.12.0->tensorflow>=2.0.0->talos) (1.51.3)\n",
      "Requirement already satisfied: keras<2.13,>=2.12.0 in d:\\new folder\\lib\\site-packages (from tensorflow-intel==2.12.0->tensorflow>=2.0.0->talos) (2.12.0)\n",
      "Requirement already satisfied: astunparse>=1.6.0 in d:\\new folder\\lib\\site-packages (from tensorflow-intel==2.12.0->tensorflow>=2.0.0->talos) (1.6.3)\n",
      "Requirement already satisfied: jax>=0.3.15 in d:\\new folder\\lib\\site-packages (from tensorflow-intel==2.12.0->tensorflow>=2.0.0->talos) (0.4.6)\n",
      "Requirement already satisfied: gast<=0.4.0,>=0.2.1 in d:\\new folder\\lib\\site-packages (from tensorflow-intel==2.12.0->tensorflow>=2.0.0->talos) (0.4.0)\n",
      "Requirement already satisfied: termcolor>=1.1.0 in d:\\new folder\\lib\\site-packages (from tensorflow-intel==2.12.0->tensorflow>=2.0.0->talos) (2.2.0)\n",
      "Requirement already satisfied: absl-py>=1.0.0 in d:\\new folder\\lib\\site-packages (from tensorflow-intel==2.12.0->tensorflow>=2.0.0->talos) (1.4.0)\n",
      "Requirement already satisfied: wrapt<1.15,>=1.11.0 in d:\\new folder\\lib\\site-packages (from tensorflow-intel==2.12.0->tensorflow>=2.0.0->talos) (1.12.1)\n",
      "Requirement already satisfied: protobuf!=4.21.0,!=4.21.1,!=4.21.2,!=4.21.3,!=4.21.4,!=4.21.5,<5.0.0dev,>=3.20.3 in d:\\new folder\\lib\\site-packages (from tensorflow-intel==2.12.0->tensorflow>=2.0.0->talos) (4.22.1)\n",
      "Requirement already satisfied: tensorflow-io-gcs-filesystem>=0.23.1 in d:\\new folder\\lib\\site-packages (from tensorflow-intel==2.12.0->tensorflow>=2.0.0->talos) (0.31.0)\n",
      "Requirement already satisfied: packaging in d:\\new folder\\lib\\site-packages (from tensorflow-intel==2.12.0->tensorflow>=2.0.0->talos) (20.9)\n",
      "Requirement already satisfied: tensorboard<2.13,>=2.12 in d:\\new folder\\lib\\site-packages (from tensorflow-intel==2.12.0->tensorflow>=2.0.0->talos) (2.12.0)\n",
      "Requirement already satisfied: typing-extensions>=3.6.6 in d:\\new folder\\lib\\site-packages (from tensorflow-intel==2.12.0->tensorflow>=2.0.0->talos) (4.5.0)\n",
      "Requirement already satisfied: opt-einsum>=2.3.2 in d:\\new folder\\lib\\site-packages (from tensorflow-intel==2.12.0->tensorflow>=2.0.0->talos) (3.3.0)\n",
      "Requirement already satisfied: tensorflow-estimator<2.13,>=2.12.0 in d:\\new folder\\lib\\site-packages (from tensorflow-intel==2.12.0->tensorflow>=2.0.0->talos) (2.12.0)\n",
      "Requirement already satisfied: setuptools in d:\\new folder\\lib\\site-packages (from tensorflow-intel==2.12.0->tensorflow>=2.0.0->talos) (52.0.0.post20210125)\n",
      "Requirement already satisfied: flatbuffers>=2.0 in d:\\new folder\\lib\\site-packages (from tensorflow-intel==2.12.0->tensorflow>=2.0.0->talos) (23.3.3)\n",
      "Requirement already satisfied: libclang>=13.0.0 in d:\\new folder\\lib\\site-packages (from tensorflow-intel==2.12.0->tensorflow>=2.0.0->talos) (16.0.0)\n",
      "Requirement already satisfied: wheel<1.0,>=0.23.0 in d:\\new folder\\lib\\site-packages (from astunparse>=1.6.0->tensorflow-intel==2.12.0->tensorflow>=2.0.0->talos) (0.36.2)\n",
      "Requirement already satisfied: tensorboard-plugin-wit>=1.6.0 in d:\\new folder\\lib\\site-packages (from tensorboard<2.13,>=2.12->tensorflow-intel==2.12.0->tensorflow>=2.0.0->talos) (1.8.1)\n",
      "Requirement already satisfied: google-auth-oauthlib<0.5,>=0.4.1 in d:\\new folder\\lib\\site-packages (from tensorboard<2.13,>=2.12->tensorflow-intel==2.12.0->tensorflow>=2.0.0->talos) (0.4.6)\n",
      "Requirement already satisfied: google-auth<3,>=1.6.3 in d:\\new folder\\lib\\site-packages (from tensorboard<2.13,>=2.12->tensorflow-intel==2.12.0->tensorflow>=2.0.0->talos) (2.16.3)\n",
      "Requirement already satisfied: tensorboard-data-server<0.8.0,>=0.7.0 in d:\\new folder\\lib\\site-packages (from tensorboard<2.13,>=2.12->tensorflow-intel==2.12.0->tensorflow>=2.0.0->talos) (0.7.0)\n",
      "Requirement already satisfied: werkzeug>=1.0.1 in d:\\new folder\\lib\\site-packages (from tensorboard<2.13,>=2.12->tensorflow-intel==2.12.0->tensorflow>=2.0.0->talos) (1.0.1)\n",
      "Requirement already satisfied: markdown>=2.6.8 in d:\\new folder\\lib\\site-packages (from tensorboard<2.13,>=2.12->tensorflow-intel==2.12.0->tensorflow>=2.0.0->talos) (3.4.3)\n",
      "Requirement already satisfied: cachetools<6.0,>=2.0.0 in d:\\new folder\\lib\\site-packages (from google-auth<3,>=1.6.3->tensorboard<2.13,>=2.12->tensorflow-intel==2.12.0->tensorflow>=2.0.0->talos) (5.3.0)\n",
      "Requirement already satisfied: rsa<5,>=3.1.4 in d:\\new folder\\lib\\site-packages (from google-auth<3,>=1.6.3->tensorboard<2.13,>=2.12->tensorflow-intel==2.12.0->tensorflow>=2.0.0->talos) (4.9)\n",
      "Requirement already satisfied: pyasn1-modules>=0.2.1 in d:\\new folder\\lib\\site-packages (from google-auth<3,>=1.6.3->tensorboard<2.13,>=2.12->tensorflow-intel==2.12.0->tensorflow>=2.0.0->talos) (0.2.8)\n",
      "Requirement already satisfied: requests-oauthlib>=0.7.0 in d:\\new folder\\lib\\site-packages (from google-auth-oauthlib<0.5,>=0.4.1->tensorboard<2.13,>=2.12->tensorflow-intel==2.12.0->tensorflow>=2.0.0->talos) (1.3.1)\n",
      "Requirement already satisfied: importlib-metadata>=4.4 in d:\\new folder\\lib\\site-packages (from markdown>=2.6.8->tensorboard<2.13,>=2.12->tensorflow-intel==2.12.0->tensorflow>=2.0.0->talos) (6.1.0)\n",
      "Requirement already satisfied: zipp>=0.5 in d:\\new folder\\lib\\site-packages (from importlib-metadata>=4.4->markdown>=2.6.8->tensorboard<2.13,>=2.12->tensorflow-intel==2.12.0->tensorflow>=2.0.0->talos) (3.4.1)\n",
      "Requirement already satisfied: pyasn1<0.5.0,>=0.4.6 in d:\\new folder\\lib\\site-packages (from pyasn1-modules>=0.2.1->google-auth<3,>=1.6.3->tensorboard<2.13,>=2.12->tensorflow-intel==2.12.0->tensorflow>=2.0.0->talos) (0.4.8)\n",
      "Requirement already satisfied: idna<3,>=2.5 in d:\\new folder\\lib\\site-packages (from requests->talos) (2.10)\n",
      "Requirement already satisfied: certifi>=2017.4.17 in d:\\new folder\\lib\\site-packages (from requests->talos) (2020.12.5)\n",
      "Requirement already satisfied: chardet<5,>=3.0.2 in d:\\new folder\\lib\\site-packages (from requests->talos) (4.0.0)\n",
      "Requirement already satisfied: urllib3<1.27,>=1.21.1 in d:\\new folder\\lib\\site-packages (from requests->talos) (1.26.4)\n",
      "Requirement already satisfied: oauthlib>=3.0.0 in d:\\new folder\\lib\\site-packages (from requests-oauthlib>=0.7.0->google-auth-oauthlib<0.5,>=0.4.1->tensorboard<2.13,>=2.12->tensorflow-intel==2.12.0->tensorflow>=2.0.0->talos) (3.2.2)\n",
      "Requirement already satisfied: geonamescache in d:\\new folder\\lib\\site-packages (from astetik->talos) (1.5.0)\n",
      "Requirement already satisfied: seaborn in d:\\new folder\\lib\\site-packages (from astetik->talos) (0.11.1)\n",
      "Requirement already satisfied: IPython in d:\\new folder\\lib\\site-packages (from astetik->talos) (7.22.0)\n",
      "Requirement already satisfied: pickleshare in d:\\new folder\\lib\\site-packages (from IPython->astetik->talos) (0.7.5)\n",
      "Requirement already satisfied: backcall in d:\\new folder\\lib\\site-packages (from IPython->astetik->talos) (0.2.0)\n",
      "Requirement already satisfied: prompt-toolkit!=3.0.0,!=3.0.1,<3.1.0,>=2.0.0 in d:\\new folder\\lib\\site-packages (from IPython->astetik->talos) (3.0.17)\n",
      "Requirement already satisfied: colorama in d:\\new folder\\lib\\site-packages (from IPython->astetik->talos) (0.4.6)\n",
      "Requirement already satisfied: decorator in d:\\new folder\\lib\\site-packages (from IPython->astetik->talos) (5.0.6)\n",
      "Requirement already satisfied: jedi>=0.16 in d:\\new folder\\lib\\site-packages (from IPython->astetik->talos) (0.17.2)\n",
      "Requirement already satisfied: pygments in d:\\new folder\\lib\\site-packages (from IPython->astetik->talos) (2.8.1)\n",
      "Requirement already satisfied: traitlets>=4.2 in d:\\new folder\\lib\\site-packages (from IPython->astetik->talos) (5.0.5)\n",
      "Requirement already satisfied: parso<0.8.0,>=0.7.0 in d:\\new folder\\lib\\site-packages (from jedi>=0.16->IPython->astetik->talos) (0.7.0)\n",
      "Requirement already satisfied: wcwidth in d:\\new folder\\lib\\site-packages (from prompt-toolkit!=3.0.0,!=3.0.1,<3.1.0,>=2.0.0->IPython->astetik->talos) (0.2.5)\n",
      "Requirement already satisfied: ipython-genutils in d:\\new folder\\lib\\site-packages (from traitlets>=4.2->IPython->astetik->talos) (0.2.0)\n",
      "Requirement already satisfied: matplotlib in d:\\new folder\\lib\\site-packages (from kerasplotlib->talos) (3.3.4)\n",
      "Requirement already satisfied: pyparsing!=2.0.4,!=2.1.2,!=2.1.6,>=2.0.3 in d:\\new folder\\lib\\site-packages (from matplotlib->kerasplotlib->talos) (2.4.7)\n",
      "Requirement already satisfied: cycler>=0.10 in d:\\new folder\\lib\\site-packages (from matplotlib->kerasplotlib->talos) (0.10.0)\n",
      "Requirement already satisfied: kiwisolver>=1.0.1 in d:\\new folder\\lib\\site-packages (from matplotlib->kerasplotlib->talos) (1.3.1)\n",
      "Requirement already satisfied: pillow>=6.2.0 in d:\\new folder\\lib\\site-packages (from matplotlib->kerasplotlib->talos) (8.2.0)\n"
     ]
    },
    {
     "name": "stderr",
     "output_type": "stream",
     "text": [
      "[nltk_data] Downloading package wordnet to\n",
      "[nltk_data]     C:\\Users\\Aaryan\\AppData\\Roaming\\nltk_data...\n",
      "[nltk_data]   Package wordnet is already up-to-date!\n"
     ]
    }
   ],
   "source": [
    "import numpy as np, pandas as pd\n",
    "\n",
    "!pip install talos\n",
    "\n",
    "import re\n",
    "import spacy\n",
    "from spacy.lang.en import English\n",
    "from spacy.lang.en.stop_words import STOP_WORDS\n",
    "from nltk.tokenize import word_tokenize\n",
    "import nltk\n",
    "from nltk.stem import WordNetLemmatizer\n",
    "nltk.download('wordnet')\n",
    "import string\n",
    "from string import ascii_lowercase\n",
    "\n",
    "from tqdm import tqdm_notebook\n",
    "import itertools\n",
    "import io\n",
    "\n",
    "import matplotlib.pyplot as plt\n",
    "%matplotlib inline\n",
    "\n",
    "from functools import reduce\n",
    "from tensorflow import keras\n",
    "from keras.preprocessing.text import Tokenizer\n",
    "from tensorflow.keras.preprocessing.sequence import pad_sequences\n",
    "from tensorflow.keras.layers import Dense, Input, LSTM, Embedding, Dropout, Activation\n",
    "from tensorflow.keras.layers import Bidirectional, GlobalMaxPool1D\n",
    "from keras.models import Model\n",
    "from keras.models import Sequential\n",
    "from tensorflow.keras.layers import Conv1D, MaxPooling1D\n",
    "from tensorflow.keras.layers import BatchNormalization\n",
    "from keras import initializers, regularizers, constraints, optimizers, layers\n",
    "import talos"
   ]
  },
  {
   "cell_type": "markdown",
   "metadata": {
    "id": "z8KPqb7_vC59"
   },
   "source": [
    "# Importing Data"
   ]
  },
  {
   "cell_type": "code",
   "execution_count": 2,
   "metadata": {
    "colab": {
     "base_uri": "https://localhost:8080/",
     "height": 74,
     "resources": {
      "http://localhost:8080/nbextensions/google.colab/files.js": {
       "data": "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",
       "headers": [
        [
         "content-type",
         "application/javascript"
        ]
       ],
       "ok": true,
       "status": 200,
       "status_text": ""
      }
     }
    },
    "executionInfo": {
     "elapsed": 881984,
     "status": "ok",
     "timestamp": 1652123605715,
     "user": {
      "displayName": "Harsh Attree",
      "userId": "01430067086563950496"
     },
     "user_tz": -330
    },
    "id": "96Z6cXAZiaAY",
    "outputId": "2147a186-6fbc-4d1e-8a5b-5211c98ce434"
   },
   "outputs": [],
   "source": [
    "#from google.colab import files\n",
    " \n",
    " \n",
    "#uploaded = files.upload()"
   ]
  },
  {
   "cell_type": "code",
   "execution_count": 3,
   "metadata": {
    "colab": {
     "base_uri": "https://localhost:8080/",
     "height": 363
    },
    "executionInfo": {
     "elapsed": 1421,
     "status": "ok",
     "timestamp": 1652123658199,
     "user": {
      "displayName": "Harsh Attree",
      "userId": "01430067086563950496"
     },
     "user_tz": -330
    },
    "id": "yTbZDdkc1lxE",
    "outputId": "b177788d-823e-4007-e0ca-c12bf2ceebda"
   },
   "outputs": [
    {
     "data": {
      "text/html": [
       "<div>\n",
       "<style scoped>\n",
       "    .dataframe tbody tr th:only-of-type {\n",
       "        vertical-align: middle;\n",
       "    }\n",
       "\n",
       "    .dataframe tbody tr th {\n",
       "        vertical-align: top;\n",
       "    }\n",
       "\n",
       "    .dataframe thead th {\n",
       "        text-align: right;\n",
       "    }\n",
       "</style>\n",
       "<table border=\"1\" class=\"dataframe\">\n",
       "  <thead>\n",
       "    <tr style=\"text-align: right;\">\n",
       "      <th></th>\n",
       "      <th>id</th>\n",
       "      <th>comment_text</th>\n",
       "      <th>toxic</th>\n",
       "      <th>severe_toxic</th>\n",
       "      <th>obscene</th>\n",
       "      <th>threat</th>\n",
       "      <th>insult</th>\n",
       "      <th>identity_hate</th>\n",
       "    </tr>\n",
       "  </thead>\n",
       "  <tbody>\n",
       "    <tr>\n",
       "      <th>0</th>\n",
       "      <td>0000997932d777bf</td>\n",
       "      <td>Explanation\\nWhy the edits made under my usern...</td>\n",
       "      <td>0</td>\n",
       "      <td>0</td>\n",
       "      <td>0</td>\n",
       "      <td>0</td>\n",
       "      <td>0</td>\n",
       "      <td>0</td>\n",
       "    </tr>\n",
       "    <tr>\n",
       "      <th>1</th>\n",
       "      <td>000103f0d9cfb60f</td>\n",
       "      <td>D'aww! He matches this background colour I'm s...</td>\n",
       "      <td>0</td>\n",
       "      <td>0</td>\n",
       "      <td>0</td>\n",
       "      <td>0</td>\n",
       "      <td>0</td>\n",
       "      <td>0</td>\n",
       "    </tr>\n",
       "    <tr>\n",
       "      <th>2</th>\n",
       "      <td>000113f07ec002fd</td>\n",
       "      <td>Hey man, I'm really not trying to edit war. It...</td>\n",
       "      <td>0</td>\n",
       "      <td>0</td>\n",
       "      <td>0</td>\n",
       "      <td>0</td>\n",
       "      <td>0</td>\n",
       "      <td>0</td>\n",
       "    </tr>\n",
       "    <tr>\n",
       "      <th>3</th>\n",
       "      <td>0001b41b1c6bb37e</td>\n",
       "      <td>\"\\nMore\\nI can't make any real suggestions on ...</td>\n",
       "      <td>0</td>\n",
       "      <td>0</td>\n",
       "      <td>0</td>\n",
       "      <td>0</td>\n",
       "      <td>0</td>\n",
       "      <td>0</td>\n",
       "    </tr>\n",
       "    <tr>\n",
       "      <th>4</th>\n",
       "      <td>0001d958c54c6e35</td>\n",
       "      <td>You, sir, are my hero. Any chance you remember...</td>\n",
       "      <td>0</td>\n",
       "      <td>0</td>\n",
       "      <td>0</td>\n",
       "      <td>0</td>\n",
       "      <td>0</td>\n",
       "      <td>0</td>\n",
       "    </tr>\n",
       "    <tr>\n",
       "      <th>5</th>\n",
       "      <td>00025465d4725e87</td>\n",
       "      <td>\"\\n\\nCongratulations from me as well, use the ...</td>\n",
       "      <td>0</td>\n",
       "      <td>0</td>\n",
       "      <td>0</td>\n",
       "      <td>0</td>\n",
       "      <td>0</td>\n",
       "      <td>0</td>\n",
       "    </tr>\n",
       "    <tr>\n",
       "      <th>6</th>\n",
       "      <td>0002bcb3da6cb337</td>\n",
       "      <td>COCKSUCKER BEFORE YOU PISS AROUND ON MY WORK</td>\n",
       "      <td>1</td>\n",
       "      <td>1</td>\n",
       "      <td>1</td>\n",
       "      <td>0</td>\n",
       "      <td>1</td>\n",
       "      <td>0</td>\n",
       "    </tr>\n",
       "    <tr>\n",
       "      <th>7</th>\n",
       "      <td>00031b1e95af7921</td>\n",
       "      <td>Your vandalism to the Matt Shirvington article...</td>\n",
       "      <td>0</td>\n",
       "      <td>0</td>\n",
       "      <td>0</td>\n",
       "      <td>0</td>\n",
       "      <td>0</td>\n",
       "      <td>0</td>\n",
       "    </tr>\n",
       "    <tr>\n",
       "      <th>8</th>\n",
       "      <td>00037261f536c51d</td>\n",
       "      <td>Sorry if the word 'nonsense' was offensive to ...</td>\n",
       "      <td>0</td>\n",
       "      <td>0</td>\n",
       "      <td>0</td>\n",
       "      <td>0</td>\n",
       "      <td>0</td>\n",
       "      <td>0</td>\n",
       "    </tr>\n",
       "    <tr>\n",
       "      <th>9</th>\n",
       "      <td>00040093b2687caa</td>\n",
       "      <td>alignment on this subject and which are contra...</td>\n",
       "      <td>0</td>\n",
       "      <td>0</td>\n",
       "      <td>0</td>\n",
       "      <td>0</td>\n",
       "      <td>0</td>\n",
       "      <td>0</td>\n",
       "    </tr>\n",
       "  </tbody>\n",
       "</table>\n",
       "</div>"
      ],
      "text/plain": [
       "                 id                                       comment_text  toxic  \\\n",
       "0  0000997932d777bf  Explanation\\nWhy the edits made under my usern...      0   \n",
       "1  000103f0d9cfb60f  D'aww! He matches this background colour I'm s...      0   \n",
       "2  000113f07ec002fd  Hey man, I'm really not trying to edit war. It...      0   \n",
       "3  0001b41b1c6bb37e  \"\\nMore\\nI can't make any real suggestions on ...      0   \n",
       "4  0001d958c54c6e35  You, sir, are my hero. Any chance you remember...      0   \n",
       "5  00025465d4725e87  \"\\n\\nCongratulations from me as well, use the ...      0   \n",
       "6  0002bcb3da6cb337       COCKSUCKER BEFORE YOU PISS AROUND ON MY WORK      1   \n",
       "7  00031b1e95af7921  Your vandalism to the Matt Shirvington article...      0   \n",
       "8  00037261f536c51d  Sorry if the word 'nonsense' was offensive to ...      0   \n",
       "9  00040093b2687caa  alignment on this subject and which are contra...      0   \n",
       "\n",
       "   severe_toxic  obscene  threat  insult  identity_hate  \n",
       "0             0        0       0       0              0  \n",
       "1             0        0       0       0              0  \n",
       "2             0        0       0       0              0  \n",
       "3             0        0       0       0              0  \n",
       "4             0        0       0       0              0  \n",
       "5             0        0       0       0              0  \n",
       "6             1        1       0       1              0  \n",
       "7             0        0       0       0              0  \n",
       "8             0        0       0       0              0  \n",
       "9             0        0       0       0              0  "
      ]
     },
     "execution_count": 3,
     "metadata": {},
     "output_type": "execute_result"
    }
   ],
   "source": [
    "train=pd.read_csv('jigsaw-toxic-comment-train.csv')\n",
    "train.head(10)"
   ]
  },
  {
   "cell_type": "code",
   "execution_count": 4,
   "metadata": {
    "colab": {
     "base_uri": "https://localhost:8080/",
     "height": 74,
     "resources": {
      "http://localhost:8080/nbextensions/google.colab/files.js": {
       "data": "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",
       "headers": [
        [
         "content-type",
         "application/javascript"
        ]
       ],
       "ok": true,
       "status": 200,
       "status_text": ""
      }
     }
    },
    "executionInfo": {
     "elapsed": 787721,
     "status": "ok",
     "timestamp": 1652124449851,
     "user": {
      "displayName": "Harsh Attree",
      "userId": "01430067086563950496"
     },
     "user_tz": -330
    },
    "id": "O2_gDuPMvQHZ",
    "outputId": "24c8ad0c-50e3-4820-defb-30e14a823fb1"
   },
   "outputs": [],
   "source": [
    "# uploadedtest = files.upload()"
   ]
  },
  {
   "cell_type": "code",
   "execution_count": 5,
   "metadata": {
    "colab": {
     "base_uri": "https://localhost:8080/",
     "height": 363
    },
    "executionInfo": {
     "elapsed": 1352,
     "status": "ok",
     "timestamp": 1652124490540,
     "user": {
      "displayName": "Harsh Attree",
      "userId": "01430067086563950496"
     },
     "user_tz": -330
    },
    "id": "vewUHsrQvcti",
    "outputId": "1078c5c9-a0ca-4414-ac75-b175ae883b33"
   },
   "outputs": [],
   "source": [
    "test=pd.read_csv('test.csv')\n"
   ]
  },
  {
   "cell_type": "markdown",
   "metadata": {
    "id": "D8hAcigh3Sh3"
   },
   "source": [
    "\n",
    "# Data Exploration"
   ]
  },
  {
   "cell_type": "markdown",
   "metadata": {
    "id": "MsOBGKJI4aHT"
   },
   "source": [
    "Checking for missing values"
   ]
  },
  {
   "cell_type": "code",
   "execution_count": 6,
   "metadata": {
    "colab": {
     "base_uri": "https://localhost:8080/"
    },
    "executionInfo": {
     "elapsed": 351,
     "status": "ok",
     "timestamp": 1652124501751,
     "user": {
      "displayName": "Harsh Attree",
      "userId": "01430067086563950496"
     },
     "user_tz": -330
    },
    "id": "ZzAnL7ly1epE",
    "outputId": "de9751fe-485f-45db-8e34-49cfe3ced50c"
   },
   "outputs": [
    {
     "data": {
      "text/plain": [
       "id               False\n",
       "comment_text     False\n",
       "toxic            False\n",
       "severe_toxic     False\n",
       "obscene          False\n",
       "threat           False\n",
       "insult           False\n",
       "identity_hate    False\n",
       "dtype: bool"
      ]
     },
     "execution_count": 6,
     "metadata": {},
     "output_type": "execute_result"
    }
   ],
   "source": [
    "train.isnull().any()"
   ]
  },
  {
   "cell_type": "code",
   "execution_count": 7,
   "metadata": {
    "colab": {
     "base_uri": "https://localhost:8080/"
    },
    "executionInfo": {
     "elapsed": 10,
     "status": "ok",
     "timestamp": 1652124502320,
     "user": {
      "displayName": "Harsh Attree",
      "userId": "01430067086563950496"
     },
     "user_tz": -330
    },
    "id": "cRc5Wyw24c62",
    "outputId": "b069f943-3f37-4582-c316-e937fbc69025"
   },
   "outputs": [
    {
     "data": {
      "text/plain": [
       "id         False\n",
       "content    False\n",
       "lang       False\n",
       "dtype: bool"
      ]
     },
     "execution_count": 7,
     "metadata": {},
     "output_type": "execute_result"
    }
   ],
   "source": [
    "test.isnull().any()\n"
   ]
  },
  {
   "cell_type": "code",
   "execution_count": 8,
   "metadata": {
    "id": "TYZ93LlRbwRB"
   },
   "outputs": [],
   "source": [
    "labels = ['toxic', 'severe_toxic', 'obscene', 'threat', 'insult', 'identity_hate']\n",
    "y = train[labels].values"
   ]
  },
  {
   "cell_type": "markdown",
   "metadata": {
    "id": "NDWRHguXxOF_"
   },
   "source": [
    "#Data Pre-processing"
   ]
  },
  {
   "cell_type": "markdown",
   "metadata": {
    "id": "6z-4hq4jyhBw"
   },
   "source": [
    "## Text Normalization"
   ]
  },
  {
   "cell_type": "markdown",
   "metadata": {
    "id": "h4k-vI8DbqiP"
   },
   "source": [
    "* Removing Characters in between Text\n",
    "* Removing Repeated Characters\n",
    "* Converting data to lower-case\n",
    "* Removing Numbers from the data\n",
    "* Remove Punctuation\n",
    "* Remove Whitespaces\n",
    "* Removing spaces in between words\n",
    "* Removing \"\\n\"\n",
    "* Remove Non-english characters"
   ]
  },
  {
   "cell_type": "code",
   "execution_count": 9,
   "metadata": {
    "id": "jglnA7LEbpoA"
   },
   "outputs": [],
   "source": [
    "RE_PATTERNS = {\n",
    "    ' american ':\n",
    "        [\n",
    "            'amerikan'\n",
    "        ],\n",
    "\n",
    "    ' adolf ':\n",
    "        [\n",
    "            'adolf'\n",
    "        ],\n",
    "\n",
    "\n",
    "    ' hitler ':\n",
    "        [\n",
    "            'hitler'\n",
    "        ],\n",
    "\n",
    "    ' fuck':\n",
    "        [\n",
    "            '(f)(u|[^a-z0-9 ])(c|[^a-z0-9 ])(k|[^a-z0-9 ])([^ ])*',\n",
    "            '(f)([^a-z]*)(u)([^a-z]*)(c)([^a-z]*)(k)',\n",
    "            ' f[!@#\\$%\\^\\&\\*]*u[!@#\\$%\\^&\\*]*k', 'f u u c',\n",
    "            '(f)(c|[^a-z ])(u|[^a-z ])(k)', r'f\\*',\n",
    "            'feck ', ' fux ', 'f\\*\\*', 'f**k','fu*k',\n",
    "            'f\\-ing', 'f\\.u\\.', 'f###', ' fu ', 'f@ck', 'f u c k', 'f uck', 'f ck'\n",
    "        ],\n",
    "\n",
    "    ' ass ':\n",
    "        [\n",
    "            '[^a-z]ass ', '[^a-z]azz ', 'arrse', ' arse ', '@\\$\\$',\n",
    "            '[^a-z]anus', ' a\\*s\\*s', '[^a-z]ass[^a-z ]',\n",
    "            'a[@#\\$%\\^&\\*][@#\\$%\\^&\\*]', '[^a-z]anal ', 'a s s','a55', '@$$'\n",
    "        ],\n",
    "\n",
    "    ' ass hole ':\n",
    "        [\n",
    "            ' a[s|z]*wipe', 'a[s|z]*[w]*h[o|0]+[l]*e', '@\\$\\$hole', 'a**hole'\n",
    "        ],\n",
    "\n",
    "    ' bitch ':\n",
    "        [\n",
    "            'b[w]*i[t]*ch', 'b!tch',\n",
    "            'bi\\+ch', 'b!\\+ch', '(b)([^a-z]*)(i)([^a-z]*)(t)([^a-z]*)(c)([^a-z]*)(h)',\n",
    "            'biatch', 'bi\\*\\*h', 'bytch', 'b i t c h', 'b!tch', 'bi+ch', 'l3itch'\n",
    "        ],\n",
    "\n",
    "    ' bastard ':\n",
    "        [\n",
    "            'ba[s|z]+t[e|a]+rd'\n",
    "        ],\n",
    "\n",
    "    ' trans gender':\n",
    "        [\n",
    "            'transgender'\n",
    "        ],\n",
    "\n",
    "    ' gay ':\n",
    "        [\n",
    "            'gay'\n",
    "        ],\n",
    "\n",
    "    ' cock ':\n",
    "        [\n",
    "            '[^a-z]cock', 'c0ck', '[^a-z]cok ', 'c0k', '[^a-z]cok[^aeiou]', ' cawk',\n",
    "            '(c)([^a-z ])(o)([^a-z ]*)(c)([^a-z ]*)(k)', 'c o c k'\n",
    "        ],\n",
    "\n",
    "    ' dick ':\n",
    "        [\n",
    "            ' dick[^aeiou]', 'deek', 'd i c k', 'dik'\n",
    "        ],\n",
    "\n",
    "    ' suck ':\n",
    "        [\n",
    "            'sucker', '(s)([^a-z ]*)(u)([^a-z ]*)(c)([^a-z ]*)(k)', 'sucks', '5uck', 's u c k'\n",
    "        ],\n",
    "\n",
    "    ' cunt ':\n",
    "        [\n",
    "            'cunt', 'c u n t'\n",
    "        ],\n",
    "\n",
    "    ' bull shit ':\n",
    "        [\n",
    "            'bullsh\\*t', 'bull\\$hit'\n",
    "        ],\n",
    "\n",
    "    ' homo sex ual':\n",
    "        [\n",
    "            'homosexual'\n",
    "        ],\n",
    "\n",
    "    ' jerk ':\n",
    "        [\n",
    "            'jerk'\n",
    "        ],\n",
    "\n",
    "    ' idiot ':\n",
    "        [\n",
    "            'i[d]+io[t]+', '(i)([^a-z ]*)(d)([^a-z ]*)(i)([^a-z ]*)(o)([^a-z ]*)(t)', 'idiots'\n",
    "                                                                                      'i d i o t'\n",
    "        ],\n",
    "\n",
    "    ' dumb ':\n",
    "        [\n",
    "            '(d)([^a-z ]*)(u)([^a-z ]*)(m)([^a-z ]*)(b)'\n",
    "        ],\n",
    "\n",
    "    ' shit ':\n",
    "        [\n",
    "            'shitty', '(s)([^a-z ]*)(h)([^a-z ]*)(i)([^a-z ]*)(t)', 'shite', '\\$hit', 's h i t', '$h1t'\n",
    "        ],\n",
    "\n",
    "    ' shit hole ':\n",
    "        [\n",
    "            'shythole'\n",
    "        ],\n",
    "\n",
    "    ' retard ':\n",
    "        [\n",
    "            'returd', 'retad', 'retard', 'wiktard', 'wikitud'\n",
    "        ],\n",
    "\n",
    "    ' rape ':\n",
    "        [\n",
    "            ' raped'\n",
    "        ],\n",
    "\n",
    "    ' dumb ass':\n",
    "        [\n",
    "            'dumbass', 'dubass'\n",
    "        ],\n",
    "\n",
    "    ' ass head':\n",
    "        [\n",
    "            'butthead'\n",
    "        ],\n",
    "\n",
    "    ' sex ':\n",
    "        [\n",
    "            'sexy', 's3x', 'sexuality'\n",
    "        ],\n",
    "\n",
    "\n",
    "    ' nigger ':\n",
    "        [\n",
    "            'nigger', 'ni[g]+a', ' nigr ', 'negrito', 'niguh', 'n3gr', 'n i g g e r'\n",
    "        ],\n",
    "\n",
    "    ' shut the fuck up':\n",
    "        [\n",
    "            'stfu', 'st*u'\n",
    "        ],\n",
    "\n",
    "    ' pussy ':\n",
    "        [\n",
    "            'pussy[^c]', 'pusy', 'pussi[^l]', 'pusses', 'p*ssy'\n",
    "        ],\n",
    "\n",
    "    ' faggot ':\n",
    "        [\n",
    "            'faggot', ' fa[g]+[s]*[^a-z ]', 'fagot', 'f a g g o t', 'faggit',\n",
    "            '(f)([^a-z ]*)(a)([^a-z ]*)([g]+)([^a-z ]*)(o)([^a-z ]*)(t)', 'fau[g]+ot', 'fae[g]+ot',\n",
    "        ],\n",
    "\n",
    "    ' mother fucker':\n",
    "        [\n",
    "            ' motha ', ' motha f', ' mother f', 'motherucker',\n",
    "        ],\n",
    "\n",
    "    ' whore ':\n",
    "        [\n",
    "            'wh\\*\\*\\*', 'w h o r e'\n",
    "        ],\n",
    "    ' fucking ':\n",
    "        [\n",
    "            'f*$%-ing','मादरचोद'\n",
    "        ],\n",
    "}\n"
   ]
  },
  {
   "cell_type": "code",
   "execution_count": 10,
   "metadata": {
    "id": "G32H2jt-J_vz"
   },
   "outputs": [],
   "source": [
    "#Ascii Removal step\n",
    "def asciiremoval(string):\n",
    "    string = re.sub('[^a-zA-Z.\\d\\s]', '', string)\n",
    "    return string\n",
    "\n",
    "#Removing dates\n",
    "def remove_dates(sentence):\n",
    "    for i in range(0,277):\n",
    "        df1[i] = df1[i].sub('(Jan|Feb|Mar|Apr|May|Jun|Jul|Aug|Sep|Oct|Nov|Dec)\\s\\d{2}\\s\\d{4}', ' ', sentence)\n",
    "\n",
    "#Removing Url\n",
    "def remove_url(txt):\n",
    "    txt_nourl=re.sub(r'(?i)\\b((?:https?://|www\\d{0,3}[.]|[a-z0-9.\\-]+[.][a-z]{2,4}/)(?:[^\\s()<>]+|\\(([^\\s()<>]+|(\\([^\\s()<>]+\\)))*\\))+(?:\\(([^\\s()<>]+|(\\([^\\s()<>]+\\)))*\\)|[^\\s`!()\\[\\]{};:\\'\".,<>?«»“”‘’]))', '', txt)\n",
    "    return txt_nourl\n",
    "\n",
    "#Punctuation Removal\n",
    "def removepunct(txt):\n",
    "    txt_nopunct=\"\".join((c for c in txt if c not in string.punctuation))\n",
    "    return txt_nopunct\n",
    "\n",
    "contractions = {\n",
    "\"ain't\": \"am not / are not\",\n",
    "\"aren't\": \"are not / am not\",\n",
    "\"can't\": \"cannot\",\n",
    "\"can't've\": \"cannot have\",\n",
    "\"'cause\": \"because\",\n",
    "\"could've\": \"could have\",\n",
    "\"couldn't\": \"could not\",\n",
    "\"couldn't've\": \"could not have\",\n",
    "\"didn't\": \"did not\",\n",
    "\"doesn't\": \"does not\",\n",
    "\"don't\": \"do not\",\n",
    "\"hadn't\": \"had not\",\n",
    "\"hadn't've\": \"had not have\",\n",
    "\"hasn't\": \"has not\",\n",
    "\"haven't\": \"have not\",\n",
    "\"he'd\": \"he had / he would\",\n",
    "\"he'd've\": \"he would have\",\n",
    "\"he'll\": \"he shall / he will\",\n",
    "\"he'll've\": \"he shall have / he will have\",\n",
    "\"he's\": \"he has / he is\",\n",
    "\"how'd\": \"how did\",\n",
    "\"how'd'y\": \"how do you\",\n",
    "\"how'll\": \"how will\",\n",
    "\"how's\": \"how has / how is\",\n",
    "\"i'd\": \"I had / I would\",\n",
    "\"i'd've\": \"I would have\",\n",
    "\"i'll\": \"I shall / I will\",\n",
    "\"i'll've\": \"I shall have / I will have\",\n",
    "\"i'm\": \"I am\",\n",
    "\"i've\": \"I have\",\n",
    "\"isn't\": \"is not\",\n",
    "\"it'd\": \"it had / it would\",\n",
    "\"it'd've\": \"it would have\",\n",
    "\"it'll\": \"it shall / it will\",\n",
    "\"it'll've\": \"it shall have / it will have\",\n",
    "\"it's\": \"it has / it is\",\n",
    "\"let's\": \"let us\",\n",
    "\"ma'am\": \"madam\",\n",
    "\"mayn't\": \"may not\",\n",
    "\"might've\": \"might have\",\n",
    "\"mightn't\": \"might not\",\n",
    "\"mightn't've\": \"might not have\",\n",
    "\"must've\": \"must have\",\n",
    "\"mustn't\": \"must not\",\n",
    "\"mustn't've\": \"must not have\",\n",
    "\"needn't\": \"need not\",\n",
    "\"needn't've\": \"need not have\",\n",
    "\"o'clock\": \"of the clock\",\n",
    "\"oughtn't\": \"ought not\",\n",
    "\"oughtn't've\": \"ought not have\",\n",
    "\"shan't\": \"shall not\",\n",
    "\"sha'n't\": \"shall not\",\n",
    "\"shan't've\": \"shall not have\",\n",
    "\"she'd\": \"she had / she would\",\n",
    "\"she'd've\": \"she would have\",\n",
    "\"she'll\": \"she shall / she will\",\n",
    "\"she'll've\": \"she shall have / she will have\",\n",
    "\"she's\": \"she has / she is\",\n",
    "\"should've\": \"should have\",\n",
    "\"shouldn't\": \"should not\",\n",
    "\"shouldn't've\": \"should not have\",\n",
    "\"so've\": \"so have\",\n",
    "\"so's\": \"so as / so is\",\n",
    "\"that'd\": \"that would / that had\",\n",
    "\"that'd've\": \"that would have\",\n",
    "\"that's\": \"that has / that is\",\n",
    "\"there'd\": \"there had / there would\",\n",
    "\"there'd've\": \"there would have\",\n",
    "\"there's\": \"there has / there is\",\n",
    "\"they'd\": \"they had / they would\",\n",
    "\"they'd've\": \"they would have\",\n",
    "\"they'll\": \"they shall / they will\",\n",
    "\"they'll've\": \"they shall have / they will have\",\n",
    "\"they're\": \"they are\",\n",
    "\"they've\": \"they have\",\n",
    "\"to've\": \"to have\",\n",
    "\"wasn't\": \"was not\",\n",
    "\"we'd\": \"we had / we would\",\n",
    "\"we'd've\": \"we would have\",\n",
    "\"we'll\": \"we will\",\n",
    "\"we'll've\": \"we will have\",\n",
    "\"we're\": \"we are\",\n",
    "\"we've\": \"we have\",\n",
    "\"weren't\": \"were not\",\n",
    "\"what'll\": \"what shall / what will\",\n",
    "\"what'll've\": \"what shall have / what will have\",\n",
    "\"what're\": \"what are\",\n",
    "\"what's\": \"what has / what is\",\n",
    "\"what've\": \"what have\",\n",
    "\"when's\": \"when has / when is\",\n",
    "\"when've\": \"when have\",\n",
    "\"where'd\": \"where did\",\n",
    "\"where's\": \"where has / where is\",\n",
    "\"where've\": \"where have\",\n",
    "\"who'll\": \"who shall / who will\",\n",
    "\"who'll've\": \"who shall have / who will have\",\n",
    "\"who's\": \"who has / who is\",\n",
    "\"who've\": \"who have\",\n",
    "\"why's\": \"why has / why is\",\n",
    "\"why've\": \"why have\",\n",
    "\"will've\": \"will have\",\n",
    "\"won't\": \"will not\",\n",
    "\"won't've\": \"will not have\",\n",
    "\"would've\": \"would have\",\n",
    "\"wouldn't\": \"would not\",\n",
    "\"wouldn't've\": \"would not have\",\n",
    "\"y'all\": \"you all\",\n",
    "\"y'all'd\": \"you all would\",\n",
    "\"y'all'd've\": \"you all would have\",\n",
    "\"y'all're\": \"you all are\",\n",
    "\"y'all've\": \"you all have\",\n",
    "\"you'd\": \"you had / you would\",\n",
    "\"you'd've\": \"you would have\",\n",
    "\"you'll\": \"you shall / you will\",\n",
    "\"you'll've\": \"you shall have / you will have\",\n",
    "\"you're\": \"you are\",\n",
    "\"you've\": \"you have\"\n",
    "}\n",
    "\n",
    "\n",
    "\n",
    "\n",
    "\n",
    "\n",
    "\n",
    "\n"
   ]
  },
  {
   "cell_type": "code",
   "execution_count": 11,
   "metadata": {
    "id": "4RetJ1vgswOG"
   },
   "outputs": [],
   "source": [
    "def clean_text(text,remove_repeat_text=True, remove_patterns_text=True, is_lower=True):\n",
    "\n",
    "  if is_lower:\n",
    "    text=text.lower()\n",
    "    \n",
    "  if remove_patterns_text:\n",
    "    for target, patterns in RE_PATTERNS.items():\n",
    "      for pat in patterns:\n",
    "        text=str(text).replace(pat, target)\n",
    "    \n",
    "\n",
    "  if remove_repeat_text:\n",
    "    text = re.sub(r'(.)\\1{2,}', r'\\1', text) \n",
    "\n",
    "  text = str(text).replace(\"\\n\", \" \")\n",
    "#Ascii Removal\n",
    "  text = re.sub('[^a-zA-Z.\\d\\s]', '', text)\n",
    "#URL removal\n",
    "  text=re.sub(r'(?i)\\b((?:https?://|www\\d{0,3}[.]|[a-z0-9.\\-]+[.][a-z]{2,4}/)(?:[^\\s()<>]+|\\(([^\\s()<>]+|(\\([^\\s()<>]+\\)))*\\))+(?:\\(([^\\s()<>]+|(\\([^\\s()<>]+\\)))*\\)|[^\\s`!()\\[\\]{};:\\'\".,<>?«»“”‘’]))', '', text)\n",
    "#Remove all the special characters \n",
    "  text = re.sub(r'[^\\w\\s]',' ',text)\n",
    "  text = re.sub('[0-9]',\"\",text)\n",
    "  text = re.sub(\" +\", \" \", text)\n",
    "#Date Removal \n",
    "  text=re.sub('(Jan|Feb|Mar|Apr|May|Jun|Jul|Aug|Sep|Oct|Nov|Dec)\\s\\d{2}\\s\\d{4}', ' ', text)\n",
    "  text= re.sub('[^a-zA-Z.\\d\\s]', '', text)\n",
    "  text = re.sub(\"([^\\x00-\\x7F])+\",\" \",text)\n",
    "  return text \n",
    "\n",
    "\n",
    "\n"
   ]
  },
  {
   "cell_type": "markdown",
   "metadata": {
    "id": "LwyO_GcPuPE_"
   },
   "source": [
    "Cleaning Training Data"
   ]
  },
  {
   "cell_type": "code",
   "execution_count": 12,
   "metadata": {
    "colab": {
     "base_uri": "https://localhost:8080/",
     "height": 35
    },
    "executionInfo": {
     "elapsed": 32385,
     "status": "ok",
     "timestamp": 1652124548382,
     "user": {
      "displayName": "Harsh Attree",
      "userId": "01430067086563950496"
     },
     "user_tz": -330
    },
    "id": "Cak-Q0fl0qyb",
    "outputId": "56478193-7037-428a-e76a-0d13eafa6dfc"
   },
   "outputs": [
    {
     "data": {
      "text/plain": [
       "'daww he matches this background colour im seemingly stuck with thanks talk january utc'"
      ]
     },
     "execution_count": 12,
     "metadata": {},
     "output_type": "execute_result"
    }
   ],
   "source": [
    "train['comment_text']=train['comment_text'].apply(lambda x: clean_text(x))\n",
    "train['comment_text'][1]"
   ]
  },
  {
   "cell_type": "markdown",
   "metadata": {
    "id": "8qfbjYXq8huL"
   },
   "source": [
    "Cleaning Test Data"
   ]
  },
  {
   "cell_type": "code",
   "execution_count": 13,
   "metadata": {
    "colab": {
     "base_uri": "https://localhost:8080/",
     "height": 35
    },
    "executionInfo": {
     "elapsed": 35704,
     "status": "ok",
     "timestamp": 1652124584071,
     "user": {
      "displayName": "Harsh Attree",
      "userId": "01430067086563950496"
     },
     "user_tz": -330
    },
    "id": "V02zaxGN8g-s",
    "outputId": "a7b3d44c-081e-4c56-8e52-5dc8236ce894"
   },
   "outputs": [
    {
     "data": {
      "text/plain": [
       "'franchement c est fastidieux de perdre du temps avec un contributeur qui visibelement joue au con avec moi depuis des mois en se livrant un pov pushing pourtant d avance vou l chec face des sources unanimes je ne peux plus supposer la bonne foi dans ces conditions merci d arrter de nous faire perdre du temps apollofox discuter '"
      ]
     },
     "execution_count": 13,
     "metadata": {},
     "output_type": "execute_result"
    }
   ],
   "source": [
    "test['content']=test['content'].apply(lambda x: clean_text(x))\n",
    "test['content'][1048]"
   ]
  },
  {
   "cell_type": "code",
   "execution_count": 14,
   "metadata": {
    "id": "PcJrI9OeLyQe"
   },
   "outputs": [],
   "source": [
    "train.to_csv('train_preprocessed_first.csv')\n",
    "test.to_csv('test_preprocessed_first.csv')"
   ]
  },
  {
   "cell_type": "code",
   "execution_count": 15,
   "metadata": {
    "id": "5WPOnAH4DrR0"
   },
   "outputs": [],
   "source": [
    "#test=pd.read_csv('Data/train_preprocessed_first.csv')\n",
    "#train=pd.read_csv('Data/test_preprocessed_first.csv')"
   ]
  },
  {
   "cell_type": "markdown",
   "metadata": {
    "id": "mqRVmH1FRWpL"
   },
   "source": [
    "## Lemmatization"
   ]
  },
  {
   "cell_type": "code",
   "execution_count": 16,
   "metadata": {
    "id": "vnhCAXkKUF9i"
   },
   "outputs": [],
   "source": [
    "comments_train=train['comment_text']\n",
    "comments_test=test['content']"
   ]
  },
  {
   "cell_type": "code",
   "execution_count": 17,
   "metadata": {
    "id": "WwhTNF3pW7Hp"
   },
   "outputs": [],
   "source": [
    "comments_train=list(comments_train)\n",
    "comments_test=list(comments_test)"
   ]
  },
  {
   "cell_type": "code",
   "execution_count": 18,
   "metadata": {
    "id": "IuWMc1xqRVqV"
   },
   "outputs": [],
   "source": [
    "wordnet_lemmatizer = WordNetLemmatizer()"
   ]
  },
  {
   "cell_type": "code",
   "execution_count": 19,
   "metadata": {
    "id": "fi-vYUcPoi-a"
   },
   "outputs": [],
   "source": [
    "#Lemmatization\n",
    "#Pos Tagging-Noun,verb,adjective,adverb\n",
    "def lemma(text, lemmatization=True):\n",
    "  output=\"\"\n",
    "  if lemmatization:\n",
    "    text=text.split(\" \")\n",
    "    for word in text:\n",
    "       word1 = wordnet_lemmatizer.lemmatize(word, pos = \"n\")\n",
    "       word2 = wordnet_lemmatizer.lemmatize(word1, pos = \"v\")\n",
    "       word3 = wordnet_lemmatizer.lemmatize(word2, pos = \"a\")\n",
    "       word4 = wordnet_lemmatizer.lemmatize(word3, pos = \"r\")\n",
    "       output=output + \" \" + word4\n",
    "  else:\n",
    "    output=text\n",
    "  \n",
    "  return str(output.strip()) "
   ]
  },
  {
   "cell_type": "markdown",
   "metadata": {
    "id": "AX4DTjGJ-8Id"
   },
   "source": [
    "Lemmatizing Training Data"
   ]
  },
  {
   "cell_type": "code",
   "execution_count": 20,
   "metadata": {
    "colab": {
     "base_uri": "https://localhost:8080/",
     "height": 49,
     "referenced_widgets": [
      "1b68379bd7444134b6f9883f4b7738ec",
      "57f49cffbf4a4728a10482c00c48422f",
      "0732e8113e8a4354b08c700ce8232f27",
      "0a2a729b22864d4ebc9ca873b0ed2e14",
      "6ae70666b22e490ebff876a0feb45fd4",
      "8572fc4dec4a4825aa118b5c11722964",
      "5a408ace836a4f5eb805e6dc36177abe",
      "2e86e5a358e44fafb64e2c3cb41cb389",
      "0a4a17aa9a9d45ca890abda43c3e36a5",
      "2da6455630ce437d9bddde1a7ca5a372",
      "b80a008c64f540e3b8db54afe9d47e0d"
     ]
    },
    "executionInfo": {
     "elapsed": 148009,
     "status": "ok",
     "timestamp": 1652124985404,
     "user": {
      "displayName": "Harsh Attree",
      "userId": "01430067086563950496"
     },
     "user_tz": -330
    },
    "id": "JRquFt30qWk0",
    "outputId": "4b8c6c18-4b92-486c-d8ff-f53a04f307e6"
   },
   "outputs": [
    {
     "data": {
      "application/vnd.jupyter.widget-view+json": {
       "model_id": "67b0c82f078b4a399b9293402e961498",
       "version_major": 2,
       "version_minor": 0
      },
      "text/plain": [
       "  0%|          | 0/159571 [00:00<?, ?it/s]"
      ]
     },
     "metadata": {},
     "output_type": "display_data"
    }
   ],
   "source": [
    "lemmatized_train_data = [] \n",
    "\n",
    "for line in tqdm_notebook(comments_train, total=159571): \n",
    "    lemmatized_train_data.append(lemma(line))"
   ]
  },
  {
   "cell_type": "code",
   "execution_count": 21,
   "metadata": {
    "colab": {
     "base_uri": "https://localhost:8080/",
     "height": 70
    },
    "executionInfo": {
     "elapsed": 163,
     "status": "ok",
     "timestamp": 1652124985407,
     "user": {
      "displayName": "Harsh Attree",
      "userId": "01430067086563950496"
     },
     "user_tz": -330
    },
    "id": "WK9azHjSrbic",
    "outputId": "850dc52b-510f-4853-8d3d-43e8188fc7dd"
   },
   "outputs": [
    {
     "data": {
      "text/plain": [
       "'i agree with you about graemels intention he be a revert nazi and wikipedia ha a way of protect against this report him to the wprr threerevertrule notice board post by report the revert nazi graemel ha show himselfherself to be a revert nazi this be unacceptable on a site that be make by it user and not it admins if you feel you have be unjustly revert more than time over a hour period please report himher to the threerevertnoticeboard wprr it be time to take back what be ours'"
      ]
     },
     "execution_count": 21,
     "metadata": {},
     "output_type": "execute_result"
    }
   ],
   "source": [
    "lemmatized_train_data[152458]"
   ]
  },
  {
   "cell_type": "markdown",
   "metadata": {
    "id": "yxRJbMBQ-oQ-"
   },
   "source": [
    "Lemmatizing Test Data"
   ]
  },
  {
   "cell_type": "code",
   "execution_count": 22,
   "metadata": {
    "colab": {
     "base_uri": "https://localhost:8080/",
     "height": 49,
     "referenced_widgets": [
      "49b9c291a2b24e7393ce9607165a47e9",
      "25b71b30219d497b9aca65a2f40378bc",
      "239b5a9740d044bb813fded5e7b25a6e",
      "f1471882163441c6940e5cc235ed0e31",
      "167c014cd658467186229b26c85d129e",
      "817e792967f1491a9aef31c36fc2c0a0",
      "637c544cc6b24b3db44d18b6542c589b",
      "32f9cf96fd0043899b213d39722dea35",
      "9a41019ce46c4a0ab656f142d9411966",
      "3ec0f2f4ac9e46cabbb291d4f3f06908",
      "b6ea9e5bdeb443a482ecce578a91de7f"
     ]
    },
    "executionInfo": {
     "elapsed": 125792,
     "status": "ok",
     "timestamp": 1652125111129,
     "user": {
      "displayName": "Harsh Attree",
      "userId": "01430067086563950496"
     },
     "user_tz": -330
    },
    "id": "B4LZUmqy-vvD",
    "outputId": "90b044cd-180b-46da-faa7-45a00ff5afb7"
   },
   "outputs": [
    {
     "data": {
      "application/vnd.jupyter.widget-view+json": {
       "model_id": "d544e43ec31c4c289dc433fff5ce2c63",
       "version_major": 2,
       "version_minor": 0
      },
      "text/plain": [
       "  0%|          | 0/63812 [00:00<?, ?it/s]"
      ]
     },
     "metadata": {},
     "output_type": "display_data"
    }
   ],
   "source": [
    "lemmatized_test_data = [] \n",
    "\n",
    "for line in tqdm_notebook(comments_test, total=len(comments_test)): \n",
    "    lemmatized_test_data.append(lemma(line))"
   ]
  },
  {
   "cell_type": "markdown",
   "metadata": {
    "id": "yZaP8BH2UG0N"
   },
   "source": [
    "## Stopwords Removal"
   ]
  },
  {
   "cell_type": "code",
   "execution_count": 23,
   "metadata": {
    "id": "vNKjE4Vq8kpG"
   },
   "outputs": [],
   "source": [
    "stopword_list=STOP_WORDS"
   ]
  },
  {
   "cell_type": "markdown",
   "metadata": {
    "id": "m_oqV08mMWmk"
   },
   "source": [
    "Adding Single and Dual to STOP_WORDS"
   ]
  },
  {
   "cell_type": "code",
   "execution_count": 24,
   "metadata": {
    "id": "go7RVS52I1US"
   },
   "outputs": [],
   "source": [
    "def iter_all_strings():\n",
    "    for size in itertools.count(1):\n",
    "        for s in itertools.product(ascii_lowercase, repeat=size):\n",
    "            yield \"\".join(s)\n",
    "\n",
    "dual_alpha_list=[]\n",
    "for s in iter_all_strings():\n",
    "    dual_alpha_list.append(s)\n",
    "    if s == 'zz':\n",
    "        break"
   ]
  },
  {
   "cell_type": "code",
   "execution_count": 25,
   "metadata": {
    "id": "7_x3bQ4MIGVK"
   },
   "outputs": [],
   "source": [
    "dual_alpha_list.remove('i')\n",
    "dual_alpha_list.remove('a')\n",
    "dual_alpha_list.remove('am')\n",
    "dual_alpha_list.remove('an')\n",
    "dual_alpha_list.remove('as')\n",
    "dual_alpha_list.remove('at')\n",
    "dual_alpha_list.remove('be')\n",
    "dual_alpha_list.remove('by')\n",
    "dual_alpha_list.remove('do')\n",
    "dual_alpha_list.remove('go')\n",
    "dual_alpha_list.remove('he')\n",
    "dual_alpha_list.remove('hi')\n",
    "dual_alpha_list.remove('if')\n",
    "dual_alpha_list.remove('is')\n",
    "dual_alpha_list.remove('in')\n",
    "dual_alpha_list.remove('me')\n",
    "dual_alpha_list.remove('my')\n",
    "dual_alpha_list.remove('no')\n",
    "dual_alpha_list.remove('of')\n",
    "dual_alpha_list.remove('on')\n",
    "dual_alpha_list.remove('or')\n",
    "dual_alpha_list.remove('ok')\n",
    "dual_alpha_list.remove('so')\n",
    "dual_alpha_list.remove('to')\n",
    "dual_alpha_list.remove('up')\n",
    "dual_alpha_list.remove('us')\n",
    "dual_alpha_list.remove('we')"
   ]
  },
  {
   "cell_type": "code",
   "execution_count": 26,
   "metadata": {
    "colab": {
     "base_uri": "https://localhost:8080/"
    },
    "executionInfo": {
     "elapsed": 73,
     "status": "ok",
     "timestamp": 1652125239491,
     "user": {
      "displayName": "Harsh Attree",
      "userId": "01430067086563950496"
     },
     "user_tz": -330
    },
    "id": "H11kkMtXMyct",
    "outputId": "124b623b-7c13-4349-8866-40b702e54caf"
   },
   "outputs": [
    {
     "name": "stdout",
     "output_type": "stream",
     "text": [
      "Done!!\n"
     ]
    }
   ],
   "source": [
    "for letter in dual_alpha_list:\n",
    "    stopword_list.add(letter)\n",
    "print(\"Done!!\")"
   ]
  },
  {
   "cell_type": "markdown",
   "metadata": {
    "id": "Ti67XuLCNnsL"
   },
   "source": [
    "Checking for other words that we may need in STOP_WORDS"
   ]
  },
  {
   "cell_type": "code",
   "execution_count": 27,
   "metadata": {
    "id": "Z4lBqjcBaDVK"
   },
   "outputs": [],
   "source": [
    "def search_stopwords(data, search_stop=True):\n",
    "  output=\"\"\n",
    "  if search_stop:\n",
    "    data=data.split(\" \")\n",
    "    for word in data:\n",
    "      if not word in stopword_list:\n",
    "        output=output+\" \"+word \n",
    "  else:\n",
    "    output=data\n",
    "\n",
    "  return str(output.strip())  "
   ]
  },
  {
   "cell_type": "code",
   "execution_count": 28,
   "metadata": {
    "colab": {
     "base_uri": "https://localhost:8080/",
     "height": 49,
     "referenced_widgets": [
      "bb4dc9185ff240068b00ec7eb8ffdd46",
      "137f1b0c32e04d4782f42703784f65ea",
      "8ccc3b448bf046ba968d84d2c0364e38",
      "b4bf9953c0df490eba45eccc3780aaef",
      "25b7c32ddcc44913b833e7ee4de5f390",
      "095ce04808f5461aa14796a1954b1d34",
      "1444df70fff748f0b3be436012f410cb",
      "769e975a1b7b4b1fa7b1707e024db48d",
      "961c84fddfbe4c0594ac362b8a83e637",
      "145dba4b3baf4175b4192a4cdda25ce8",
      "94f4a7c8fe094629aec7a64f78a93941"
     ]
    },
    "executionInfo": {
     "elapsed": 3051,
     "status": "ok",
     "timestamp": 1652125242474,
     "user": {
      "displayName": "Harsh Attree",
      "userId": "01430067086563950496"
     },
     "user_tz": -330
    },
    "id": "xn21RMeIbQti",
    "outputId": "b90e9691-067a-4117-f974-d9a88d1d9dfa"
   },
   "outputs": [
    {
     "data": {
      "application/vnd.jupyter.widget-view+json": {
       "model_id": "31ed3b095807409abaccca727e46d3eb",
       "version_major": 2,
       "version_minor": 0
      },
      "text/plain": [
       "  0%|          | 0/159571 [00:00<?, ?it/s]"
      ]
     },
     "metadata": {},
     "output_type": "display_data"
    }
   ],
   "source": [
    "potential_stopwords = [] \n",
    "\n",
    "for line in tqdm_notebook(lemmatized_train_data, total=159571): \n",
    "    potential_stopwords.append(search_stopwords(line))"
   ]
  },
  {
   "cell_type": "code",
   "execution_count": 29,
   "metadata": {
    "colab": {
     "base_uri": "https://localhost:8080/"
    },
    "executionInfo": {
     "elapsed": 14,
     "status": "ok",
     "timestamp": 1652125242475,
     "user": {
      "displayName": "Harsh Attree",
      "userId": "01430067086563950496"
     },
     "user_tz": -330
    },
    "id": "R4Yp_YRoap6Q",
    "outputId": "d146db94-9497-4787-e254-a8a162650880"
   },
   "outputs": [
    {
     "data": {
      "text/plain": [
       "223549"
      ]
     },
     "execution_count": 29,
     "metadata": {},
     "output_type": "execute_result"
    }
   ],
   "source": [
    "len(potential_stopwords)"
   ]
  },
  {
   "cell_type": "markdown",
   "metadata": {
    "id": "PFSkmGjAZuR3"
   },
   "source": [
    "Combining all the sentences in the list into a single string"
   ]
  },
  {
   "cell_type": "code",
   "execution_count": 30,
   "metadata": {
    "id": "zpmze-Q7BrK0"
   },
   "outputs": [],
   "source": [
    "def string_combine(stopword):\n",
    "  final_a=\"\"\n",
    "  for item in range(1,159571):\n",
    "    final_a=final_a+\" \"+stopword[item]\n",
    "  return final_a\n",
    "\n"
   ]
  },
  {
   "cell_type": "code",
   "execution_count": 31,
   "metadata": {
    "id": "UqBc4rOahmAz"
   },
   "outputs": [],
   "source": [
    "total_string_potential=string_combine(potential_stopwords)"
   ]
  },
  {
   "cell_type": "code",
   "execution_count": 32,
   "metadata": {
    "colab": {
     "base_uri": "https://localhost:8080/"
    },
    "executionInfo": {
     "elapsed": 538,
     "status": "ok",
     "timestamp": 1652126024423,
     "user": {
      "displayName": "Harsh Attree",
      "userId": "01430067086563950496"
     },
     "user_tz": -330
    },
    "id": "w0bOXfhdqc6C",
    "outputId": "f1a77fad-9258-4f16-8e88-1ed0e27988df"
   },
   "outputs": [
    {
     "name": "stderr",
     "output_type": "stream",
     "text": [
      "IOPub data rate exceeded.\n",
      "The notebook server will temporarily stop sending output\n",
      "to the client in order to avoid crashing it.\n",
      "To change this limit, set the config variable\n",
      "`--NotebookApp.iopub_data_rate_limit`.\n",
      "\n",
      "Current values:\n",
      "NotebookApp.iopub_data_rate_limit=1000000.0 (bytes/sec)\n",
      "NotebookApp.rate_limit_window=3.0 (secs)\n",
      "\n"
     ]
    }
   ],
   "source": [
    "print(potential_stopwords)"
   ]
  },
  {
   "cell_type": "markdown",
   "metadata": {
    "id": "hbEm3D8txMSH"
   },
   "source": [
    "Counting the number of words in each of the 4 strings"
   ]
  },
  {
   "cell_type": "code",
   "execution_count": 33,
   "metadata": {
    "id": "O_hhbMS_xR6t"
   },
   "outputs": [],
   "source": [
    "def word_count(str):\n",
    "    counts = dict()\n",
    "    words = str.split()\n",
    "\n",
    "    for word in words:\n",
    "        if word in counts:\n",
    "            counts[word] += 1\n",
    "        else:\n",
    "            counts[word] = 1\n",
    "\n",
    "    return counts"
   ]
  },
  {
   "cell_type": "code",
   "execution_count": 34,
   "metadata": {
    "id": "bsh0BuT9xSDg"
   },
   "outputs": [],
   "source": [
    "total_string_potential_dict=word_count(total_string_potential)\n"
   ]
  },
  {
   "cell_type": "markdown",
   "metadata": {
    "id": "shmHkLSk3Xxp"
   },
   "source": [
    "Converting Dictionaries to Dataframe"
   ]
  },
  {
   "cell_type": "code",
   "execution_count": 35,
   "metadata": {
    "id": "pSJXHnv6y9T0"
   },
   "outputs": [],
   "source": [
    "total_string_potential_df = pd.DataFrame(list(total_string_potential_dict.items()),columns = ['Word','Count'])"
   ]
  },
  {
   "cell_type": "markdown",
   "metadata": {
    "id": "WjWO0vj2yaW7"
   },
   "source": [
    "Getting Dataframe output in descending order"
   ]
  },
  {
   "cell_type": "code",
   "execution_count": 36,
   "metadata": {
    "colab": {
     "base_uri": "https://localhost:8080/",
     "height": 424
    },
    "executionInfo": {
     "elapsed": 359,
     "status": "ok",
     "timestamp": 1652126024432,
     "user": {
      "displayName": "Harsh Attree",
      "userId": "01430067086563950496"
     },
     "user_tz": -330
    },
    "id": "bzThNOjA2pjx",
    "outputId": "07ce8129-74b4-433b-8696-dc033983661c"
   },
   "outputs": [
    {
     "data": {
      "text/html": [
       "<div>\n",
       "<style scoped>\n",
       "    .dataframe tbody tr th:only-of-type {\n",
       "        vertical-align: middle;\n",
       "    }\n",
       "\n",
       "    .dataframe tbody tr th {\n",
       "        vertical-align: top;\n",
       "    }\n",
       "\n",
       "    .dataframe thead th {\n",
       "        text-align: right;\n",
       "    }\n",
       "</style>\n",
       "<table border=\"1\" class=\"dataframe\">\n",
       "  <thead>\n",
       "    <tr style=\"text-align: right;\">\n",
       "      <th></th>\n",
       "      <th>Word</th>\n",
       "      <th>Count</th>\n",
       "    </tr>\n",
       "  </thead>\n",
       "  <tbody>\n",
       "    <tr>\n",
       "      <th>0</th>\n",
       "      <td>daww</td>\n",
       "      <td>1</td>\n",
       "    </tr>\n",
       "    <tr>\n",
       "      <th>1</th>\n",
       "      <td>match</td>\n",
       "      <td>1062</td>\n",
       "    </tr>\n",
       "    <tr>\n",
       "      <th>2</th>\n",
       "      <td>background</td>\n",
       "      <td>770</td>\n",
       "    </tr>\n",
       "    <tr>\n",
       "      <th>3</th>\n",
       "      <td>colour</td>\n",
       "      <td>335</td>\n",
       "    </tr>\n",
       "    <tr>\n",
       "      <th>4</th>\n",
       "      <td>seemingly</td>\n",
       "      <td>165</td>\n",
       "    </tr>\n",
       "    <tr>\n",
       "      <th>...</th>\n",
       "      <td>...</td>\n",
       "      <td>...</td>\n",
       "    </tr>\n",
       "    <tr>\n",
       "      <th>195350</th>\n",
       "      <td>nearendless</td>\n",
       "      <td>1</td>\n",
       "    </tr>\n",
       "    <tr>\n",
       "      <th>195351</th>\n",
       "      <td>imagebarackobamamother</td>\n",
       "      <td>2</td>\n",
       "    </tr>\n",
       "    <tr>\n",
       "      <th>195352</th>\n",
       "      <td>hanumakonda</td>\n",
       "      <td>1</td>\n",
       "    </tr>\n",
       "    <tr>\n",
       "      <th>195353</th>\n",
       "      <td>automaker</td>\n",
       "      <td>1</td>\n",
       "    </tr>\n",
       "    <tr>\n",
       "      <th>195354</th>\n",
       "      <td>ciu</td>\n",
       "      <td>1</td>\n",
       "    </tr>\n",
       "  </tbody>\n",
       "</table>\n",
       "<p>195355 rows × 2 columns</p>\n",
       "</div>"
      ],
      "text/plain": [
       "                          Word  Count\n",
       "0                         daww      1\n",
       "1                        match   1062\n",
       "2                   background    770\n",
       "3                       colour    335\n",
       "4                    seemingly    165\n",
       "...                        ...    ...\n",
       "195350             nearendless      1\n",
       "195351  imagebarackobamamother      2\n",
       "195352             hanumakonda      1\n",
       "195353               automaker      1\n",
       "195354                     ciu      1\n",
       "\n",
       "[195355 rows x 2 columns]"
      ]
     },
     "execution_count": 36,
     "metadata": {},
     "output_type": "execute_result"
    }
   ],
   "source": [
    "total_string_potential_df"
   ]
  },
  {
   "cell_type": "markdown",
   "metadata": {
    "id": "hX3lIQj0l36i"
   },
   "source": [
    "Retaining certain words and removing others from the above list"
   ]
  },
  {
   "cell_type": "code",
   "execution_count": 37,
   "metadata": {
    "id": "zacbW5ASjN2r"
   },
   "outputs": [],
   "source": [
    "potential_stopwords=['editor', 'reference', 'thank', 'work','find', 'good', 'know', 'like', 'look', 'thing', 'want', 'time', 'list', 'section','wikipedia', 'doe', 'add','new', 'try', 'think', 'write','use', 'user', 'way', 'page']"
   ]
  },
  {
   "cell_type": "markdown",
   "metadata": {
    "id": "7-yjjvj3LpZs"
   },
   "source": [
    "Adding above retrived words into the stopwords list"
   ]
  },
  {
   "cell_type": "code",
   "execution_count": 38,
   "metadata": {
    "colab": {
     "base_uri": "https://localhost:8080/"
    },
    "executionInfo": {
     "elapsed": 271,
     "status": "ok",
     "timestamp": 1652126024435,
     "user": {
      "displayName": "Harsh Attree",
      "userId": "01430067086563950496"
     },
     "user_tz": -330
    },
    "id": "73PbxjxbLvz9",
    "outputId": "801c7a8e-1bfe-4cc7-f168-f6dfb1853358"
   },
   "outputs": [
    {
     "name": "stdout",
     "output_type": "stream",
     "text": [
      "Done!!\n"
     ]
    }
   ],
   "source": [
    "for word in potential_stopwords:\n",
    "    stopword_list.add(word)\n",
    "print(\"Done!!\")"
   ]
  },
  {
   "cell_type": "markdown",
   "metadata": {
    "id": "101v0iZjaNLR"
   },
   "source": [
    "Removing Stopwords from Training Data"
   ]
  },
  {
   "cell_type": "code",
   "execution_count": 39,
   "metadata": {
    "id": "RRSga8PKsktA"
   },
   "outputs": [],
   "source": [
    "def remove_stopwords(text, remove_stop=True):\n",
    "  output = \"\"\n",
    "  if remove_stop:\n",
    "    text=text.split(\" \")\n",
    "    for word in text:\n",
    "      if word not in stopword_list:\n",
    "        output=output + \" \" + word\n",
    "  else :\n",
    "    output=text\n",
    "\n",
    "  return str(output.strip())      "
   ]
  },
  {
   "cell_type": "code",
   "execution_count": 40,
   "metadata": {
    "colab": {
     "base_uri": "https://localhost:8080/",
     "height": 49,
     "referenced_widgets": [
      "1f9d96d0fa814351bafb749a197bc67e",
      "e8ba4cf7f87349c3ac984f1dc6e44bdb",
      "284d723b75364dc28906bcbd63e412eb",
      "ca375d30b2cc4bc5ab9b9963a089ffbc",
      "db566189934942c2acc4dfc985f8e37a",
      "93415cdca39b401c852a4dbb9a3c0ec7",
      "a4ac16d8d7804ed5ba16d385ce2709e1",
      "abe469d4a98b4448b4b25403706f1406",
      "13490f332cde4bfb8e5d969aa5961433",
      "fa5409a7b75a42e780d7facae8eed97b",
      "34ac3c938b4c4155a4cea9e23b3b10bf"
     ]
    },
    "executionInfo": {
     "elapsed": 209,
     "status": "ok",
     "timestamp": 1652126024440,
     "user": {
      "displayName": "Harsh Attree",
      "userId": "01430067086563950496"
     },
     "user_tz": -330
    },
    "id": "Q-hItiV7skoV",
    "outputId": "065249f8-b6e8-4e57-d5aa-5d149227a043"
   },
   "outputs": [
    {
     "data": {
      "application/vnd.jupyter.widget-view+json": {
       "model_id": "3c0b63c9e10349d79d4e735d25e50847",
       "version_major": 2,
       "version_minor": 0
      },
      "text/plain": [
       "  0%|          | 0/159571 [00:00<?, ?it/s]"
      ]
     },
     "metadata": {},
     "output_type": "display_data"
    }
   ],
   "source": [
    "processed_train_data = [] \n",
    "\n",
    "for line in tqdm_notebook(lemmatized_train_data, total=159571): \n",
    "    processed_train_data.append(remove_stopwords(line))"
   ]
  },
  {
   "cell_type": "code",
   "execution_count": 41,
   "metadata": {
    "colab": {
     "base_uri": "https://localhost:8080/",
     "height": 53
    },
    "executionInfo": {
     "elapsed": 166,
     "status": "ok",
     "timestamp": 1652126024441,
     "user": {
      "displayName": "Harsh Attree",
      "userId": "01430067086563950496"
     },
     "user_tz": -330
    },
    "id": "a29qOSPA-rbS",
    "outputId": "acc89fff-4f1e-4583-c8f1-760f0f987fa4"
   },
   "outputs": [
    {
     "data": {
      "text/plain": [
       "'agree graemels intention revert nazi protect report wprr threerevertrule notice board post report revert nazi graemel himselfherself revert nazi unacceptable site admins feel unjustly revert hour period report himher threerevertnoticeboard wprr'"
      ]
     },
     "execution_count": 41,
     "metadata": {},
     "output_type": "execute_result"
    }
   ],
   "source": [
    "processed_train_data[152458]"
   ]
  },
  {
   "cell_type": "markdown",
   "metadata": {
    "id": "iqXHFaSC-Bkf"
   },
   "source": [
    "Removing Stopwords from Test Data"
   ]
  },
  {
   "cell_type": "code",
   "execution_count": 42,
   "metadata": {
    "colab": {
     "base_uri": "https://localhost:8080/",
     "height": 49,
     "referenced_widgets": [
      "662ff04ad1364f0eab35485b72285b4c",
      "80a349fd1a224e0ca622678007e1bc1b",
      "dda52b48db8f437ab3156ad14f2680fd",
      "26e40d7256ae4be08f94ab84c59c474e",
      "f90589325a3346ac840dc8d5a46a8e9c",
      "8b110fb128ae4d638a3f27b827a98147",
      "5b31a7fc650c4807a0c1f97edeb40946",
      "0f1f914f03df4a7284490f8f97efb713",
      "252a810086d645169672f0f8f9bd1906",
      "cccf51d628d448cea54ee75d095f18a3",
      "ec420323b3f4435ab3264f74448829f8"
     ]
    },
    "executionInfo": {
     "elapsed": 162,
     "status": "ok",
     "timestamp": 1652126024442,
     "user": {
      "displayName": "Harsh Attree",
      "userId": "01430067086563950496"
     },
     "user_tz": -330
    },
    "id": "EQ_lUOej-H_b",
    "outputId": "6aa5f2e4-eb1c-4726-857e-0cec6e5ae872"
   },
   "outputs": [
    {
     "data": {
      "application/vnd.jupyter.widget-view+json": {
       "model_id": "39d98a9ce5004437ae1d14e7ee97704d",
       "version_major": 2,
       "version_minor": 0
      },
      "text/plain": [
       "  0%|          | 0/153164 [00:00<?, ?it/s]"
      ]
     },
     "metadata": {},
     "output_type": "display_data"
    }
   ],
   "source": [
    "processed_test_data = [] \n",
    "\n",
    "for line in tqdm_notebook(lemmatized_test_data, total=153164): \n",
    "    processed_test_data.append(remove_stopwords(line))"
   ]
  },
  {
   "cell_type": "markdown",
   "metadata": {
    "id": "CeScalvZDEdD"
   },
   "source": [
    "# Model Building"
   ]
  },
  {
   "cell_type": "code",
   "execution_count": 43,
   "metadata": {
    "id": "SkK1P-CdX_0N"
   },
   "outputs": [],
   "source": [
    "max_features=100000      \n",
    "maxpadlen = 200          \n",
    "val_split = 0.2      \n",
    "embedding_dim_fasttext = 300"
   ]
  },
  {
   "cell_type": "markdown",
   "metadata": {
    "id": "GIeovLIr6aAo"
   },
   "source": [
    "Tokenization"
   ]
  },
  {
   "cell_type": "code",
   "execution_count": 44,
   "metadata": {
    "id": "qaA52PlK4xnV"
   },
   "outputs": [],
   "source": [
    "tokenizer = Tokenizer(num_words=max_features)\n",
    "tokenizer.fit_on_texts(list(processed_train_data))\n",
    "list_tokenized_train = tokenizer.texts_to_sequences(processed_train_data)\n",
    "list_tokenized_test = tokenizer.texts_to_sequences(processed_test_data)"
   ]
  },
  {
   "cell_type": "code",
   "execution_count": 45,
   "metadata": {
    "colab": {
     "base_uri": "https://localhost:8080/"
    },
    "executionInfo": {
     "elapsed": 389,
     "status": "ok",
     "timestamp": 1652126148085,
     "user": {
      "displayName": "Harsh Attree",
      "userId": "01430067086563950496"
     },
     "user_tz": -330
    },
    "id": "pkSXj5sT7jbR",
    "outputId": "5660eccd-d4b9-46d3-d5c7-23fe3b08528c"
   },
   "outputs": [
    {
     "name": "stdout",
     "output_type": "stream",
     "text": [
      "Words in Vocabulary:  263853\n"
     ]
    },
    {
     "data": {
      "text/plain": [
       "{'article': 1,\n",
       " 'edit': 2,\n",
       " 'talk': 3,\n",
       " 'dont': 4,\n",
       " 'source': 5,\n",
       " 'people': 6,\n",
       " 'need': 7,\n",
       " 'fuck': 8,\n",
       " 'block': 9,\n",
       " 'link': 10,\n",
       " 'delete': 11,\n",
       " 'remove': 12,\n",
       " 'change': 13,\n",
       " 'comment': 14,\n",
       " 'help': 15,\n",
       " 'information': 16,\n",
       " 'image': 17,\n",
       " 'point': 18,\n",
       " 'question': 19,\n",
       " 'read': 20,\n",
       " 'deletion': 21,\n",
       " 'mean': 22,\n",
       " 'fact': 23,\n",
       " 'state': 24,\n",
       " 'discussion': 25,\n",
       " 'right': 26,\n",
       " 'come': 27,\n",
       " 'place': 28,\n",
       " 'ask': 29,\n",
       " 'revert': 30,\n",
       " 'ive': 31,\n",
       " 'include': 32,\n",
       " 'word': 33,\n",
       " 'reason': 34,\n",
       " 'note': 35,\n",
       " 'tag': 36,\n",
       " 'create': 37,\n",
       " 'issue': 38,\n",
       " 'leave': 39,\n",
       " 'year': 40,\n",
       " 'policy': 41,\n",
       " 'content': 42,\n",
       " 'post': 43,\n",
       " 'mention': 44,\n",
       " 'stop': 45,\n",
       " 'far': 46,\n",
       " 'consider': 47,\n",
       " 'case': 48,\n",
       " 'youre': 49,\n",
       " 'claim': 50,\n",
       " 'thats': 51,\n",
       " 'feel': 52,\n",
       " 'problem': 53,\n",
       " 'let': 54,\n",
       " 'doesnt': 55,\n",
       " 'history': 56,\n",
       " 'interest': 57,\n",
       " 'hi': 58,\n",
       " 'person': 59,\n",
       " 'welcome': 60,\n",
       " 'start': 61,\n",
       " 'day': 62,\n",
       " 'sure': 63,\n",
       " 'understand': 64,\n",
       " 'long': 65,\n",
       " 'believe': 66,\n",
       " 'tell': 67,\n",
       " 'utc': 68,\n",
       " 'subject': 69,\n",
       " 'actually': 70,\n",
       " 'cant': 71,\n",
       " 'request': 72,\n",
       " 'agree': 73,\n",
       " 'view': 74,\n",
       " 'regard': 75,\n",
       " 'suck': 76,\n",
       " 'follow': 77,\n",
       " 'copyright': 78,\n",
       " 'ill': 79,\n",
       " 'didnt': 80,\n",
       " 'continue': 81,\n",
       " 'book': 82,\n",
       " 'vandalism': 83,\n",
       " 'support': 84,\n",
       " 'best': 85,\n",
       " 'hope': 86,\n",
       " 'attack': 87,\n",
       " 'provide': 88,\n",
       " 'personal': 89,\n",
       " 'nigger': 90,\n",
       " 'check': 91,\n",
       " 'war': 92,\n",
       " 'term': 93,\n",
       " 'opinion': 94,\n",
       " 'site': 95,\n",
       " 'notice': 96,\n",
       " 'free': 97,\n",
       " 'little': 98,\n",
       " 'great': 99,\n",
       " 'wrong': 100,\n",
       " 'world': 101,\n",
       " 'explain': 102,\n",
       " 'example': 103,\n",
       " 'rule': 104,\n",
       " 'review': 105,\n",
       " 'wiki': 106,\n",
       " 'gay': 107,\n",
       " 'text': 108,\n",
       " 'number': 109,\n",
       " 'message': 110,\n",
       " 'bad': 111,\n",
       " 'isnt': 112,\n",
       " 'suggest': 113,\n",
       " 'appear': 114,\n",
       " 'different': 115,\n",
       " 'account': 116,\n",
       " 'reliable': 117,\n",
       " 'speedy': 118,\n",
       " 'life': 119,\n",
       " 'lot': 120,\n",
       " 'report': 121,\n",
       " 'sorry': 122,\n",
       " 'matter': 123,\n",
       " 'cite': 124,\n",
       " 'english': 125,\n",
       " 'shit': 126,\n",
       " 'title': 127,\n",
       " 'probably': 128,\n",
       " 'original': 129,\n",
       " 'contribution': 130,\n",
       " 'statement': 131,\n",
       " 'correct': 132,\n",
       " 'language': 133,\n",
       " 'material': 134,\n",
       " 'group': 135,\n",
       " 'simply': 136,\n",
       " 'website': 137,\n",
       " 'idea': 138,\n",
       " 'address': 139,\n",
       " 'guideline': 140,\n",
       " 'old': 141,\n",
       " 'bite': 142,\n",
       " 'consensus': 143,\n",
       " 'hello': 144,\n",
       " 'die': 145,\n",
       " 'live': 146,\n",
       " 'yes': 147,\n",
       " 'fair': 148,\n",
       " 'etc': 149,\n",
       " 'clear': 150,\n",
       " 'template': 151,\n",
       " 'warn': 152,\n",
       " 'refer': 153,\n",
       " 'date': 154,\n",
       " 'exist': 155,\n",
       " 'version': 156,\n",
       " 'hate': 157,\n",
       " 'quote': 158,\n",
       " 'late': 159,\n",
       " 'happen': 160,\n",
       " 'criterion': 161,\n",
       " 'notable': 162,\n",
       " 'encyclopedia': 163,\n",
       " 'redirect': 164,\n",
       " 'maybe': 165,\n",
       " 'picture': 166,\n",
       " 'end': 167,\n",
       " 'real': 168,\n",
       " 'research': 169,\n",
       " 'evidence': 170,\n",
       " 'base': 171,\n",
       " 'country': 172,\n",
       " 'topic': 173,\n",
       " 'guy': 174,\n",
       " 'clearly': 175,\n",
       " 'instead': 176,\n",
       " 'lead': 177,\n",
       " 'ban': 178,\n",
       " 'true': 179,\n",
       " 'important': 180,\n",
       " 'medium': 181,\n",
       " 'concern': 182,\n",
       " 'big': 183,\n",
       " 'american': 184,\n",
       " 'sentence': 185,\n",
       " 'admin': 186,\n",
       " 'httpw': 187,\n",
       " 'care': 188,\n",
       " 'allow': 189,\n",
       " 'sign': 190,\n",
       " 'answer': 191,\n",
       " 'faggot': 192,\n",
       " 'citation': 193,\n",
       " 'second': 194,\n",
       " 'contribute': 195,\n",
       " 'game': 196,\n",
       " 'upload': 197,\n",
       " 'current': 198,\n",
       " 'school': 199,\n",
       " 'argument': 200,\n",
       " 'kind': 201,\n",
       " 'jew': 202,\n",
       " 'pov': 203,\n",
       " 'man': 204,\n",
       " 'project': 205,\n",
       " 'love': 206,\n",
       " 'course': 207,\n",
       " 'common': 208,\n",
       " 'wish': 209,\n",
       " 'line': 210,\n",
       " 'dispute': 211,\n",
       " 'decide': 212,\n",
       " 'present': 213,\n",
       " 'main': 214,\n",
       " 'possible': 215,\n",
       " 'general': 216,\n",
       " 'summary': 217,\n",
       " 'kill': 218,\n",
       " 'learn': 219,\n",
       " 'accept': 220,\n",
       " 'detail': 221,\n",
       " 'high': 222,\n",
       " 'bitch': 223,\n",
       " 'relate': 224,\n",
       " 'result': 225,\n",
       " 'bias': 226,\n",
       " 'describe': 227,\n",
       " 'mind': 228,\n",
       " 'play': 229,\n",
       " 'cunt': 230,\n",
       " 'stupid': 231,\n",
       " 'ok': 232,\n",
       " 'type': 233,\n",
       " 'dick': 234,\n",
       " 'vandalize': 235,\n",
       " 'attempt': 236,\n",
       " 'meet': 237,\n",
       " 'improve': 238,\n",
       " 'fix': 239,\n",
       " 'jpg': 240,\n",
       " 'action': 241,\n",
       " 'order': 242,\n",
       " 'appreciate': 243,\n",
       " 'test': 244,\n",
       " 'involve': 245,\n",
       " 'wikipedias': 246,\n",
       " 'sense': 247,\n",
       " 'close': 248,\n",
       " 'speak': 249,\n",
       " 'style': 250,\n",
       " 'administrator': 251,\n",
       " 'happy': 252,\n",
       " 'hey': 253,\n",
       " 'form': 254,\n",
       " 'member': 255,\n",
       " 'hear': 256,\n",
       " 'entry': 257,\n",
       " 'position': 258,\n",
       " 'act': 259,\n",
       " 'appropriate': 260,\n",
       " 'early': 261,\n",
       " 'info': 262,\n",
       " 'community': 263,\n",
       " 'company': 264,\n",
       " 'cause': 265,\n",
       " 'open': 266,\n",
       " 'publish': 267,\n",
       " 'record': 268,\n",
       " 'sex': 269,\n",
       " 'specific': 270,\n",
       " 'file': 271,\n",
       " 'category': 272,\n",
       " 'bring': 273,\n",
       " 'week': 274,\n",
       " 'paragraph': 275,\n",
       " 'reply': 276,\n",
       " 'youve': 277,\n",
       " 'relevant': 278,\n",
       " 'area': 279,\n",
       " 'system': 280,\n",
       " 'deal': 281,\n",
       " 'discus': 282,\n",
       " 'notability': 283,\n",
       " 'film': 284,\n",
       " 'city': 285,\n",
       " 'single': 286,\n",
       " 'god': 287,\n",
       " 'standard': 288,\n",
       " 'run': 289,\n",
       " 'party': 290,\n",
       " 'copy': 291,\n",
       " 'large': 292,\n",
       " 'stay': 293,\n",
       " 'away': 294,\n",
       " 'recent': 295,\n",
       " 'official': 296,\n",
       " 'email': 297,\n",
       " 'head': 298,\n",
       " 'propose': 299,\n",
       " 'process': 300,\n",
       " 'assume': 301,\n",
       " 'search': 302,\n",
       " 'currently': 303,\n",
       " 'wont': 304,\n",
       " 'vote': 305,\n",
       " 'power': 306,\n",
       " 'law': 307,\n",
       " 'release': 308,\n",
       " 'reader': 309,\n",
       " 'especially': 310,\n",
       " 'hard': 311,\n",
       " 'pretty': 312,\n",
       " 'stuff': 313,\n",
       " 'neutral': 314,\n",
       " 'band': 315,\n",
       " 'accord': 316,\n",
       " 'require': 317,\n",
       " 'public': 318,\n",
       " 'com': 319,\n",
       " 'certainly': 320,\n",
       " 'theory': 321,\n",
       " 'able': 322,\n",
       " 'nice': 323,\n",
       " 'month': 324,\n",
       " 'response': 325,\n",
       " 'sound': 326,\n",
       " 'wasnt': 327,\n",
       " 'friend': 328,\n",
       " 'remember': 329,\n",
       " 'begin': 330,\n",
       " 'addition': 331,\n",
       " 'lol': 332,\n",
       " 'small': 333,\n",
       " 'author': 334,\n",
       " 'prove': 335,\n",
       " 'today': 336,\n",
       " 'completely': 337,\n",
       " 'news': 338,\n",
       " 'cover': 339,\n",
       " 'sort': 340,\n",
       " 'set': 341,\n",
       " 'government': 342,\n",
       " 'definition': 343,\n",
       " 'indicate': 344,\n",
       " 'lie': 345,\n",
       " 'google': 346,\n",
       " 'guess': 347,\n",
       " 'faith': 348,\n",
       " 'force': 349,\n",
       " 'obviously': 350,\n",
       " 'story': 351,\n",
       " 'event': 352,\n",
       " 'hand': 353,\n",
       " 'future': 354,\n",
       " 'character': 355,\n",
       " 'web': 356,\n",
       " 'past': 357,\n",
       " 'photo': 358,\n",
       " 'explanation': 359,\n",
       " 'white': 360,\n",
       " 'similar': 361,\n",
       " 'hold': 362,\n",
       " 'discuss': 363,\n",
       " 'wonder': 364,\n",
       " 'useful': 365,\n",
       " 'short': 366,\n",
       " 'unite': 367,\n",
       " 'ago': 368,\n",
       " 'figure': 369,\n",
       " 'particular': 370,\n",
       " 'mistake': 371,\n",
       " 'political': 372,\n",
       " 'merge': 373,\n",
       " 'hour': 374,\n",
       " 'send': 375,\n",
       " 'woman': 376,\n",
       " 'truth': 377,\n",
       " 'description': 378,\n",
       " 'disagree': 379,\n",
       " 'stand': 380,\n",
       " 'exactly': 381,\n",
       " 'apply': 382,\n",
       " 'avoid': 383,\n",
       " 'fat': 384,\n",
       " 'sandbox': 385,\n",
       " 'black': 386,\n",
       " 'child': 387,\n",
       " 'respond': 388,\n",
       " 'fail': 389,\n",
       " 'miss': 390,\n",
       " 'update': 391,\n",
       " 'contact': 392,\n",
       " 'study': 393,\n",
       " 'havent': 394,\n",
       " 'cheer': 395,\n",
       " 'lack': 396,\n",
       " 'major': 397,\n",
       " 'family': 398,\n",
       " 'watch': 399,\n",
       " 'break': 400,\n",
       " 'british': 401,\n",
       " 'fine': 402,\n",
       " 'suppose': 403,\n",
       " 'conflict': 404,\n",
       " 'human': 405,\n",
       " 'admins': 406,\n",
       " 'ignore': 407,\n",
       " 'death': 408,\n",
       " 'archive': 409,\n",
       " 'feature': 410,\n",
       " 'bear': 411,\n",
       " 'false': 412,\n",
       " 'national': 413,\n",
       " 'piece': 414,\n",
       " 'unblock': 415,\n",
       " 'respect': 416,\n",
       " 'turn': 417,\n",
       " 'error': 418,\n",
       " 'enjoy': 419,\n",
       " 'likely': 420,\n",
       " 'couple': 421,\n",
       " 'violation': 422,\n",
       " 'produce': 423,\n",
       " 'build': 424,\n",
       " 'experience': 425,\n",
       " 'hell': 426,\n",
       " 'status': 427,\n",
       " 'contribs': 428,\n",
       " 'saw': 429,\n",
       " 'university': 430,\n",
       " 'certain': 431,\n",
       " 'generally': 432,\n",
       " 'remain': 433,\n",
       " 'debate': 434,\n",
       " 'username': 435,\n",
       " 'music': 436,\n",
       " 'criticism': 437,\n",
       " 'lose': 438,\n",
       " 'whats': 439,\n",
       " 'context': 440,\n",
       " 'cock': 441,\n",
       " 'recently': 442,\n",
       " 'entire': 443,\n",
       " 'easy': 444,\n",
       " 'song': 445,\n",
       " 'german': 446,\n",
       " 'contain': 447,\n",
       " 'wait': 448,\n",
       " 'simple': 449,\n",
       " 'difference': 450,\n",
       " 'abuse': 451,\n",
       " 'oppose': 452,\n",
       " 'log': 453,\n",
       " 'job': 454,\n",
       " 'knowledge': 455,\n",
       " 'experiment': 456,\n",
       " 'soon': 457,\n",
       " 'argue': 458,\n",
       " 'aware': 459,\n",
       " 'arent': 460,\n",
       " 'complete': 461,\n",
       " 'vandal': 462,\n",
       " 'wouldnt': 463,\n",
       " 'level': 464,\n",
       " 'suggestion': 465,\n",
       " 'video': 466,\n",
       " 'nonsense': 467,\n",
       " 'actual': 468,\n",
       " 'choose': 469,\n",
       " 'fight': 470,\n",
       " 'moron': 471,\n",
       " 'purpose': 472,\n",
       " 'poop': 473,\n",
       " 'external': 474,\n",
       " 'share': 475,\n",
       " 'individual': 476,\n",
       " 'obvious': 477,\n",
       " 'license': 478,\n",
       " 'shouldnt': 479,\n",
       " 'ball': 480,\n",
       " 'john': 481,\n",
       " 'science': 482,\n",
       " 'accuse': 483,\n",
       " 'replace': 484,\n",
       " 'team': 485,\n",
       " 'violate': 486,\n",
       " 'confirm': 487,\n",
       " 'belong': 488,\n",
       " 'click': 489,\n",
       " 'separate': 490,\n",
       " 'attention': 491,\n",
       " 'internet': 492,\n",
       " 'previous': 493,\n",
       " 'table': 494,\n",
       " 'control': 495,\n",
       " 'effort': 496,\n",
       " 'doubt': 497,\n",
       " 'confuse': 498,\n",
       " 'expect': 499,\n",
       " 'biography': 500,\n",
       " 'church': 501,\n",
       " 'situation': 502,\n",
       " 'box': 503,\n",
       " 'proper': 504,\n",
       " 'theyre': 505,\n",
       " 'organization': 506,\n",
       " 'penis': 507,\n",
       " 'series': 508,\n",
       " 'win': 509,\n",
       " 'christian': 510,\n",
       " 'seriously': 511,\n",
       " 'fag': 512,\n",
       " 'protect': 513,\n",
       " 'spell': 514,\n",
       " 'available': 515,\n",
       " 'album': 516,\n",
       " 'space': 517,\n",
       " 'sock': 518,\n",
       " 'usually': 519,\n",
       " 'yeah': 520,\n",
       " 'format': 521,\n",
       " 'necessary': 522,\n",
       " 'rest': 523,\n",
       " 'eat': 524,\n",
       " 'field': 525,\n",
       " 'receive': 526,\n",
       " 'map': 527,\n",
       " 'million': 528,\n",
       " 'automatically': 529,\n",
       " 'mark': 530,\n",
       " 'npov': 531,\n",
       " 'greek': 532,\n",
       " 'multiple': 533,\n",
       " 'direct': 534,\n",
       " 'helpful': 535,\n",
       " 'face': 536,\n",
       " 'valid': 537,\n",
       " 'mother': 538,\n",
       " 'idiot': 539,\n",
       " 'proof': 540,\n",
       " 'tilde': 541,\n",
       " 'period': 542,\n",
       " 'httpen': 543,\n",
       " 'contributor': 544,\n",
       " 'document': 545,\n",
       " 'fan': 546,\n",
       " 'accurate': 547,\n",
       " 'personally': 548,\n",
       " 'july': 549,\n",
       " 'limit': 550,\n",
       " 'offer': 551,\n",
       " 'culture': 552,\n",
       " 'episode': 553,\n",
       " 'service': 554,\n",
       " 'troll': 555,\n",
       " 'youll': 556,\n",
       " 'rationale': 557,\n",
       " 'wikiproject': 558,\n",
       " 'contest': 559,\n",
       " 'restore': 560,\n",
       " 'insert': 561,\n",
       " 'establish': 562,\n",
       " 'data': 563,\n",
       " 'reach': 564,\n",
       " 'rewrite': 565,\n",
       " 'plan': 566,\n",
       " 'online': 567,\n",
       " 'forget': 568,\n",
       " 'effect': 569,\n",
       " 'low': 570,\n",
       " 'promote': 571,\n",
       " 'manual': 572,\n",
       " 'pay': 573,\n",
       " 'eye': 574,\n",
       " 'historical': 575,\n",
       " 'house': 576,\n",
       " 'decision': 577,\n",
       " 'insult': 578,\n",
       " 'movie': 579,\n",
       " 'count': 580,\n",
       " 'afd': 581,\n",
       " 'march': 582,\n",
       " 'age': 583,\n",
       " 'legal': 584,\n",
       " 'light': 585,\n",
       " 'dog': 586,\n",
       " 'award': 587,\n",
       " 'repeat': 588,\n",
       " 'religion': 589,\n",
       " 'specify': 590,\n",
       " 'apparently': 591,\n",
       " 'south': 592,\n",
       " 'hit': 593,\n",
       " 'solid': 594,\n",
       " 'nominate': 595,\n",
       " 'quality': 596,\n",
       " 'primary': 597,\n",
       " 'century': 598,\n",
       " 'directly': 599,\n",
       " 'student': 600,\n",
       " 'computer': 601,\n",
       " 'define': 602,\n",
       " 'belief': 603,\n",
       " 'join': 604,\n",
       " 'behavior': 605,\n",
       " 'spend': 606,\n",
       " 'expand': 607,\n",
       " 'press': 608,\n",
       " 'paper': 609,\n",
       " 'nazi': 610,\n",
       " 'body': 611,\n",
       " 'significant': 612,\n",
       " 'raise': 613,\n",
       " 'stick': 614,\n",
       " 'return': 615,\n",
       " 'intend': 616,\n",
       " 'specifically': 617,\n",
       " 'modern': 618,\n",
       " 'homo': 619,\n",
       " 'accusation': 620,\n",
       " 'india': 621,\n",
       " 'america': 622,\n",
       " 'king': 623,\n",
       " 'kid': 624,\n",
       " 'middle': 625,\n",
       " 'pillar': 626,\n",
       " 'population': 627,\n",
       " 'bullshit': 628,\n",
       " 'phrase': 629,\n",
       " 'verify': 630,\n",
       " 'wikipedian': 631,\n",
       " 'august': 632,\n",
       " 'military': 633,\n",
       " 'chance': 634,\n",
       " 'boy': 635,\n",
       " 'focus': 636,\n",
       " 'outside': 637,\n",
       " 'jewish': 638,\n",
       " 'court': 639,\n",
       " 'pig': 640,\n",
       " 'bother': 641,\n",
       " 'incorrect': 642,\n",
       " 'html': 643,\n",
       " 'value': 644,\n",
       " 'precede': 645,\n",
       " 'practice': 646,\n",
       " 'inclusion': 647,\n",
       " 'step': 648,\n",
       " 'business': 649,\n",
       " 'shoot': 650,\n",
       " 'prefer': 651,\n",
       " 'okay': 652,\n",
       " 'program': 653,\n",
       " 'particularly': 654,\n",
       " 'disruptive': 655,\n",
       " 'strong': 656,\n",
       " 'red': 657,\n",
       " 'dead': 658,\n",
       " 'tutorial': 659,\n",
       " 'deserve': 660,\n",
       " 'international': 661,\n",
       " 'worth': 662,\n",
       " 'huge': 663,\n",
       " 'clean': 664,\n",
       " 'bot': 665,\n",
       " 'realize': 666,\n",
       " 'men': 667,\n",
       " 'home': 668,\n",
       " 'nomination': 669,\n",
       " 'unsigned': 670,\n",
       " 'january': 671,\n",
       " 'admit': 672,\n",
       " 'class': 673,\n",
       " 'june': 674,\n",
       " 'muslim': 675,\n",
       " 'poor': 676,\n",
       " 'develop': 677,\n",
       " 'club': 678,\n",
       " 'push': 679,\n",
       " 'imply': 680,\n",
       " 'entirely': 681,\n",
       " 'irrelevant': 682,\n",
       " 'represent': 683,\n",
       " 'independent': 684,\n",
       " 'asshole': 685,\n",
       " 'majority': 686,\n",
       " 'totally': 687,\n",
       " 'concept': 688,\n",
       " 'scientific': 689,\n",
       " 'waste': 690,\n",
       " 'april': 691,\n",
       " 'north': 692,\n",
       " 'controversy': 693,\n",
       " 'possibly': 694,\n",
       " 'guide': 695,\n",
       " 'reflect': 696,\n",
       " 'removal': 697,\n",
       " 'nation': 698,\n",
       " 'threat': 699,\n",
       " 'movement': 700,\n",
       " 'save': 701,\n",
       " 'aid': 702,\n",
       " 'dumb': 703,\n",
       " 'racist': 704,\n",
       " 'shall': 705,\n",
       " 'object': 706,\n",
       " 'finally': 707,\n",
       " 'absolutely': 708,\n",
       " 'french': 709,\n",
       " 'joke': 710,\n",
       " 'final': 711,\n",
       " 'fish': 712,\n",
       " 'fit': 713,\n",
       " 'label': 714,\n",
       " 'race': 715,\n",
       " 'blog': 716,\n",
       " 'youfuck': 717,\n",
       " 'product': 718,\n",
       " 'compare': 719,\n",
       " 'moment': 720,\n",
       " 'merely': 721,\n",
       " 'indian': 722,\n",
       " 'advice': 723,\n",
       " 'acceptable': 724,\n",
       " 'minor': 725,\n",
       " 'art': 726,\n",
       " 'season': 727,\n",
       " 'unfortunately': 728,\n",
       " 'drop': 729,\n",
       " 'rape': 730,\n",
       " 'identify': 731,\n",
       " 'blank': 732,\n",
       " 'boob': 733,\n",
       " 'expert': 734,\n",
       " 'russian': 735,\n",
       " 'inappropriate': 736,\n",
       " 'dear': 737,\n",
       " 'design': 738,\n",
       " 'december': 739,\n",
       " 'flag': 740,\n",
       " 'youd': 741,\n",
       " 'prevent': 742,\n",
       " 'authority': 743,\n",
       " 'israel': 744,\n",
       " 'access': 745,\n",
       " 'minute': 746,\n",
       " 'instance': 747,\n",
       " 'width': 748,\n",
       " 'infobox': 749,\n",
       " 'civil': 750,\n",
       " 'cut': 751,\n",
       " 'september': 752,\n",
       " 'shut': 753,\n",
       " 'crap': 754,\n",
       " 'barnstar': 755,\n",
       " 'cool': 756,\n",
       " 'nature': 757,\n",
       " 'highly': 758,\n",
       " 'match': 759,\n",
       " 'star': 760,\n",
       " 'fire': 761,\n",
       " 'damn': 762,\n",
       " 'creation': 763,\n",
       " 'college': 764,\n",
       " 'engage': 765,\n",
       " 'definitely': 766,\n",
       " 'anonymous': 767,\n",
       " 'player': 768,\n",
       " 'properly': 769,\n",
       " 'origin': 770,\n",
       " 'land': 771,\n",
       " 'despite': 772,\n",
       " 'half': 773,\n",
       " 'resolve': 774,\n",
       " 'participate': 775,\n",
       " 'easily': 776,\n",
       " 'special': 777,\n",
       " 'basic': 778,\n",
       " 'hitler': 779,\n",
       " 'fall': 780,\n",
       " 'letter': 781,\n",
       " 'undo': 782,\n",
       " 'local': 783,\n",
       " 'money': 784,\n",
       " 'trouble': 785,\n",
       " 'bastard': 786,\n",
       " 'proposal': 787,\n",
       " 'november': 788,\n",
       " 'introduction': 789,\n",
       " 'difficult': 790,\n",
       " 'verifiable': 791,\n",
       " 'justify': 792,\n",
       " 'couldnt': 793,\n",
       " 'october': 794,\n",
       " 'son': 795,\n",
       " 'board': 796,\n",
       " 'suspect': 797,\n",
       " 'president': 798,\n",
       " 'battle': 799,\n",
       " 'forward': 800,\n",
       " 'earth': 801,\n",
       " 'usage': 802,\n",
       " 'academic': 803,\n",
       " 'visit': 804,\n",
       " 'fill': 805,\n",
       " 'air': 806,\n",
       " 'code': 807,\n",
       " 'night': 808,\n",
       " 'color': 809,\n",
       " 'treat': 810,\n",
       " 'chinese': 811,\n",
       " 'grind': 812,\n",
       " 'fun': 813,\n",
       " 'grow': 814,\n",
       " 'tool': 815,\n",
       " 'girl': 816,\n",
       " 'determine': 817,\n",
       " 'army': 818,\n",
       " 'draw': 819,\n",
       " 'btw': 820,\n",
       " 'china': 821,\n",
       " 'ahead': 822,\n",
       " 'total': 823,\n",
       " 'reasonable': 824,\n",
       " 'surprise': 825,\n",
       " 'ref': 826,\n",
       " 'hide': 827,\n",
       " 'conclusion': 828,\n",
       " 'express': 829,\n",
       " 'controversial': 830,\n",
       " 'quick': 831,\n",
       " 'social': 832,\n",
       " 'forum': 833,\n",
       " 'popular': 834,\n",
       " 'society': 835,\n",
       " 'retard': 836,\n",
       " 'newspaper': 837,\n",
       " 'occur': 838,\n",
       " 'region': 839,\n",
       " 'benefit': 840,\n",
       " 'police': 841,\n",
       " 'unsourced': 842,\n",
       " 'february': 843,\n",
       " 'somebody': 844,\n",
       " 'york': 845,\n",
       " 'basis': 846,\n",
       " 'advertise': 847,\n",
       " 'alternative': 848,\n",
       " 'influence': 849,\n",
       " 'religious': 850,\n",
       " 'weight': 851,\n",
       " 'young': 852,\n",
       " 'recognize': 853,\n",
       " 'listen': 854,\n",
       " 'basically': 855,\n",
       " 'clarify': 856,\n",
       " 'jesus': 857,\n",
       " 'crime': 858,\n",
       " 'spam': 859,\n",
       " 'worry': 860,\n",
       " 'rock': 861,\n",
       " 'mess': 862,\n",
       " 'seek': 863,\n",
       " 'approach': 864,\n",
       " 'european': 865,\n",
       " 'father': 866,\n",
       " 'ridiculous': 867,\n",
       " 'drive': 868,\n",
       " 'role': 869,\n",
       " 'negative': 870,\n",
       " 'connection': 871,\n",
       " 'fully': 872,\n",
       " 'rfc': 873,\n",
       " 'magazine': 874,\n",
       " 'writer': 875,\n",
       " 'pick': 876,\n",
       " 'speedily': 877,\n",
       " 'defend': 878,\n",
       " 'serve': 879,\n",
       " 'funny': 880,\n",
       " 'translation': 881,\n",
       " 'west': 882,\n",
       " 'charge': 883,\n",
       " 'manner': 884,\n",
       " 'propaganda': 885,\n",
       " 'model': 886,\n",
       " 'pass': 887,\n",
       " 'method': 888,\n",
       " 'teach': 889,\n",
       " 'deny': 890,\n",
       " 'importance': 891,\n",
       " 'water': 892,\n",
       " 'previously': 893,\n",
       " 'activity': 894,\n",
       " 'david': 895,\n",
       " 'apology': 896,\n",
       " 'campaign': 897,\n",
       " 'glad': 898,\n",
       " 'scholar': 899,\n",
       " 'size': 900,\n",
       " 'publication': 901,\n",
       " 'wikipedians': 902,\n",
       " 'judge': 903,\n",
       " 'town': 904,\n",
       " 'immediately': 905,\n",
       " 'assert': 906,\n",
       " 'sexual': 907,\n",
       " 'near': 908,\n",
       " 'jam': 909,\n",
       " 'associate': 910,\n",
       " 'stub': 911,\n",
       " 'track': 912,\n",
       " 'throw': 913,\n",
       " 'recommend': 914,\n",
       " 'encourage': 915,\n",
       " 'artist': 916,\n",
       " 'island': 917,\n",
       " 'introduce': 918,\n",
       " 'active': 919,\n",
       " 'inform': 920,\n",
       " 'balance': 921,\n",
       " 'sell': 922,\n",
       " 'challenge': 923,\n",
       " 'murder': 924,\n",
       " 'interview': 925,\n",
       " 'disambiguation': 926,\n",
       " 'western': 927,\n",
       " 'development': 928,\n",
       " 'permission': 929,\n",
       " 'additional': 930,\n",
       " 'refuse': 931,\n",
       " 'credit': 932,\n",
       " 'anymore': 933,\n",
       " 'republic': 934,\n",
       " 'objection': 935,\n",
       " 'wanker': 936,\n",
       " 'europe': 937,\n",
       " 'incident': 938,\n",
       " 'choice': 939,\n",
       " 'ani': 940,\n",
       " 'aspect': 941,\n",
       " 'qualify': 942,\n",
       " 'hopefully': 943,\n",
       " 'encyclopedic': 944,\n",
       " 'train': 945,\n",
       " 'mass': 946,\n",
       " 'journal': 947,\n",
       " 'mislead': 948,\n",
       " 'secondary': 949,\n",
       " 'interpretation': 950,\n",
       " 'east': 951,\n",
       " 'thousand': 952,\n",
       " 'factual': 953,\n",
       " 'alter': 954,\n",
       " 'reality': 955,\n",
       " 'extremely': 956,\n",
       " 'election': 957,\n",
       " 'border': 958,\n",
       " 'catholic': 959,\n",
       " 'trust': 960,\n",
       " 'item': 961,\n",
       " 'county': 962,\n",
       " 'brother': 963,\n",
       " 'japanese': 964,\n",
       " 'improvement': 965,\n",
       " 'tone': 966,\n",
       " 'carry': 967,\n",
       " 'threaten': 968,\n",
       " 'self': 969,\n",
       " 'repeatedly': 970,\n",
       " 'nonfree': 971,\n",
       " 'spanish': 972,\n",
       " 'range': 973,\n",
       " 'rename': 974,\n",
       " 'historian': 975,\n",
       " 'bush': 976,\n",
       " 'station': 977,\n",
       " 'prior': 978,\n",
       " 'luck': 979,\n",
       " 'metal': 980,\n",
       " 'structure': 981,\n",
       " 'fool': 982,\n",
       " 'solution': 983,\n",
       " 'bark': 984,\n",
       " 'background': 985,\n",
       " 'hesitate': 986,\n",
       " 'random': 987,\n",
       " 'rfa': 988,\n",
       " 'intention': 989,\n",
       " 'professional': 990,\n",
       " 'thread': 991,\n",
       " 'finish': 992,\n",
       " 'refrain': 993,\n",
       " 'sockpuppet': 994,\n",
       " 'office': 995,\n",
       " 'loser': 996,\n",
       " 'silly': 997,\n",
       " 'advance': 998,\n",
       " 'center': 999,\n",
       " 'protection': 1000,\n",
       " ...}"
      ]
     },
     "execution_count": 45,
     "metadata": {},
     "output_type": "execute_result"
    }
   ],
   "source": [
    "word_index=tokenizer.word_index\n",
    "# word_index=word_index[0:195332,:]\n",
    "print(\"Words in Vocabulary: \",len(word_index))\n",
    "word_index"
   ]
  },
  {
   "cell_type": "markdown",
   "metadata": {
    "id": "TfDwmzPj8TJf"
   },
   "source": [
    "Padding"
   ]
  },
  {
   "cell_type": "code",
   "execution_count": 46,
   "metadata": {
    "id": "gEmacO337twa"
   },
   "outputs": [],
   "source": [
    "X_t=pad_sequences(list_tokenized_train, maxlen=maxpadlen, padding = 'post')\n",
    "X_te=pad_sequences(list_tokenized_test, maxlen=maxpadlen, padding = 'post')"
   ]
  },
  {
   "cell_type": "code",
   "execution_count": 47,
   "metadata": {
    "colab": {
     "base_uri": "https://localhost:8080/"
    },
    "executionInfo": {
     "elapsed": 368,
     "status": "ok",
     "timestamp": 1652126157337,
     "user": {
      "displayName": "Harsh Attree",
      "userId": "01430067086563950496"
     },
     "user_tz": -330
    },
    "id": "U6dAeWAnM4RL",
    "outputId": "0f95b5ee-255f-423f-81b9-2a0c6555709d"
   },
   "outputs": [
    {
     "name": "stdout",
     "output_type": "stream",
     "text": [
      "Tokenized sentences: \n",
      " [  148   557 40917   240   197 40917   240    96    17   590    17   148\n",
      "   359   557     1  1108   148   331  5462   148   151    17   378   270\n",
      "   359   557    17     1  1343   148    17   378     2    32   148   557\n",
      "   197   148   181    47    91   590   148   557    17     2   489   130\n",
      "    10  1095   453  1093    17  2449   503    35   148    17   197   396\n",
      "   359    11   274   197   227   161   118    21    19    29   181    78\n",
      "    19     3   428  4765     5 40917   240   197 40917   240    96   271\n",
      "   378   303    55   590    37    42    78   427  1501    37   271     7\n",
      "   590  1319    78  1717   137    10   137  4994   137    93    42   519\n",
      "  1233    16    78  1379   115   137  1689    78  1166     5   504    78\n",
      "   478    36   271    55  3528   166  2233   466    36   308  1664    66\n",
      "   181   237   161  2682    36    36  1674    78  5209  1674    78    36\n",
      "    78    36   197   271    47    91   590     5    36   271   197    77\n",
      "    10   842  3323    17    11   274    36   227   161   118    21    17\n",
      "    78   971   478  2682    17    11   374    19    29   181    78    19\n",
      "     3   428     0     0     0     0     0     0     0     0     0     0\n",
      "     0     0     0     0     0     0     0     0]\n",
      "One hot label: \n",
      " [0 0 0 0 0 0]\n"
     ]
    }
   ],
   "source": [
    "print('Tokenized sentences: \\n', X_t[10])\n",
    "print('One hot label: \\n', y[10])"
   ]
  },
  {
   "cell_type": "code",
   "execution_count": 48,
   "metadata": {
    "id": "XtZD1j9BCrsG"
   },
   "outputs": [],
   "source": [
    "indices = np.arange(X_t.shape[0])\n",
    "np.random.shuffle(indices)"
   ]
  },
  {
   "cell_type": "code",
   "execution_count": 49,
   "metadata": {
    "colab": {
     "base_uri": "https://localhost:8080/"
    },
    "executionInfo": {
     "elapsed": 345,
     "status": "ok",
     "timestamp": 1652126163551,
     "user": {
      "displayName": "Harsh Attree",
      "userId": "01430067086563950496"
     },
     "user_tz": -330
    },
    "id": "k51hkGqOnZLB",
    "outputId": "389757fd-a881-446b-fb52-d12644365de6"
   },
   "outputs": [
    {
     "name": "stdout",
     "output_type": "stream",
     "text": [
      "Features are : \n",
      " [[  687 23949    71 ...     0     0     0]\n",
      " [ 3727 21223   556 ...     0     0     0]\n",
      " [  670    14   103 ...     0     0     0]\n",
      " ...\n",
      " [  152  1891   387 ...     0     0     0]\n",
      " [27065  3956   207 ...     0     0     0]\n",
      " [17523  4706   144 ...     0     0     0]]\n",
      "labels are: \n",
      " [[0 0 0 0 0 0]\n",
      " [1 0 1 1 1 0]\n",
      " [0 0 0 0 0 0]\n",
      " ...\n",
      " [0 0 0 0 0 0]\n",
      " [0 0 0 0 0 0]\n",
      " [0 0 0 0 0 0]]\n"
     ]
    }
   ],
   "source": [
    "X_t = X_t[indices]\n",
    "labels = y[indices]\n",
    "print('Features are :','\\n',X_t)\n",
    "print('labels are:','\\n',labels)"
   ]
  },
  {
   "cell_type": "markdown",
   "metadata": {
    "id": "MWn-SkJCCswd"
   },
   "source": [
    "### Splitting data into Training and Validation Set"
   ]
  },
  {
   "cell_type": "code",
   "execution_count": 50,
   "metadata": {
    "id": "B5hOSGJVb7o4"
   },
   "outputs": [],
   "source": [
    "num_validation_samples = int(val_split*X_t.shape[0])\n",
    "x_train = X_t[: -num_validation_samples]\n",
    "y_train = labels[: -num_validation_samples]\n",
    "x_val = X_t[-num_validation_samples: ]\n",
    "y_val = labels[-num_validation_samples: ]\n"
   ]
  },
  {
   "cell_type": "code",
   "execution_count": 51,
   "metadata": {
    "colab": {
     "base_uri": "https://localhost:8080/"
    },
    "executionInfo": {
     "elapsed": 363,
     "status": "ok",
     "timestamp": 1652126169213,
     "user": {
      "displayName": "Harsh Attree",
      "userId": "01430067086563950496"
     },
     "user_tz": -330
    },
    "id": "cHyYFZPDcEmK",
    "outputId": "ff9ffd72-1c02-45c2-be2d-5c3644994cf1"
   },
   "outputs": [
    {
     "name": "stdout",
     "output_type": "stream",
     "text": [
      "Number of entries in each category:\n",
      "training:  [17121  1583  9741   557  9058  1697]\n",
      "validation:  [4263  379 2399  132 2246  420]\n"
     ]
    }
   ],
   "source": [
    "print('Number of entries in each category:')\n",
    "print('training: ', y_train.sum(axis=0))\n",
    "print('validation: ', y_val.sum(axis=0))"
   ]
  },
  {
   "cell_type": "markdown",
   "metadata": {
    "id": "hL7Mv1Z6D8_w"
   },
   "source": [
    "### Importing Fast Text"
   ]
  },
  {
   "cell_type": "code",
   "execution_count": 52,
   "metadata": {
    "executionInfo": {
     "elapsed": 40847,
     "status": "ok",
     "timestamp": 1668353743929,
     "user": {
      "displayName": "Harsh Attree",
      "userId": "01430067086563950496"
     },
     "user_tz": -330
    },
    "id": "LOk8t5TIqc6I"
   },
   "outputs": [],
   "source": [
    "import requests, zipfile, io\n",
    "\n",
    "zip_file_url = \"https://dl.fbaipublicfiles.com/fasttext/vectors-english/wiki-news-300d-1M.vec.zip\"\n",
    "\n",
    "r = requests.get(zip_file_url)\n",
    "\n",
    "z = zipfile.ZipFile(io.BytesIO(r.content))\n",
    "\n",
    "z.extractall()\n"
   ]
  },
  {
   "cell_type": "code",
   "execution_count": 53,
   "metadata": {
    "id": "vsvNLXZ6DlWS"
   },
   "outputs": [],
   "source": [
    "import codecs\n",
    "embeddings_index_fasttext = {}\n",
    "\n",
    "f = codecs.open('wiki-news-300d-1M.vec', encoding='utf-8')\n",
    "\n",
    "\n",
    "for line in f:\n",
    "\n",
    "    values = line.rstrip().rsplit(' ')\n",
    "\n",
    "    word = values[0]\n",
    "\n",
    "    coefs = np.asarray(values[1:], dtype='float32')\n",
    "\n",
    "    embeddings_index_fasttext[word] = coefs\n",
    "\n",
    "f.close()\n"
   ]
  },
  {
   "cell_type": "code",
   "execution_count": 54,
   "metadata": {
    "colab": {
     "base_uri": "https://localhost:8080/"
    },
    "executionInfo": {
     "elapsed": 1591,
     "status": "ok",
     "timestamp": 1652126357964,
     "user": {
      "displayName": "Harsh Attree",
      "userId": "01430067086563950496"
     },
     "user_tz": -330
    },
    "id": "hpkSOB6iEFCB",
    "outputId": "0a0f7b8f-678e-4299-de4c-f369916b37fa"
   },
   "outputs": [
    {
     "name": "stdout",
     "output_type": "stream",
     "text": [
      "Completed!\n",
      "number of null word embeddings: 0\n"
     ]
    }
   ],
   "source": [
    "embedding_matrix_fasttext = np.random.random((len(word_index) + 1, embedding_dim_fasttext))\n",
    "for word, i in word_index.items():\n",
    "    embedding_vector = embeddings_index_fasttext.get(word)\n",
    "    if embedding_vector is not None:\n",
    "        embedding_matrix_fasttext[i] = embedding_vector\n",
    "        \n",
    "print(\"Completed!\")\n",
    "print('number of null word embeddings: %d' % np.sum(np.sum(embedding_matrix_fasttext, axis=1) == 0))"
   ]
  },
  {
   "cell_type": "markdown",
   "metadata": {
    "id": "0OoZ7fTpPWhi"
   },
   "source": [
    "### Creating Model"
   ]
  },
  {
   "cell_type": "code",
   "execution_count": 116,
   "metadata": {
    "id": "oZdik3-jGkye"
   },
   "outputs": [],
   "source": [
    "from keras.preprocessing.text import Tokenizer\n",
    "from tensorflow.keras.preprocessing.sequence import pad_sequences\n",
    "\n",
    "from keras.models import Model, load_model\n",
    "from keras.callbacks import Callback, EarlyStopping, ModelCheckpoint\n",
    "from keras.layers import Input, Embedding, SpatialDropout1D, Bidirectional, GRU, GlobalMaxPooling1D, Dense\n",
    "\n",
    "\n",
    "\n",
    "def build_model():\n",
    "    inp=Input(shape=(maxpadlen, ),dtype='int32')\n",
    "#     x = Embedding(195331, embedding_dim_fasttext, weights=[embedding_matrix_fasttext], trainable = False)(inp)\n",
    "    x = Embedding(263854, embedding_dim_fasttext, weights=[embedding_matrix_fasttext], trainable = False)(inp)\n",
    "    x = SpatialDropout1D(0.3)(x)\n",
    "    x = Bidirectional(GRU(128, dropout=0.3, recurrent_dropout=0.5,  return_sequences=True))(x)\n",
    "    x = GlobalMaxPooling1D()(x)\n",
    "    x = Dense(6, activation=\"sigmoid\")(x)\n",
    "    \n",
    "    model = Model(inputs=inp, outputs=x)\n",
    "    return model\n",
    "\n"
   ]
  },
  {
   "cell_type": "code",
   "execution_count": 117,
   "metadata": {
    "colab": {
     "base_uri": "https://localhost:8080/"
    },
    "executionInfo": {
     "elapsed": 2029,
     "status": "ok",
     "timestamp": 1652126555618,
     "user": {
      "displayName": "Harsh Attree",
      "userId": "01430067086563950496"
     },
     "user_tz": -330
    },
    "id": "HXbgbOkVaIXg",
    "outputId": "1b3fdd72-0ed7-4ad1-c1bc-63f7dcb701c6"
   },
   "outputs": [
    {
     "name": "stdout",
     "output_type": "stream",
     "text": [
      "Model: \"model\"\n",
      "_________________________________________________________________\n",
      " Layer (type)                Output Shape              Param #   \n",
      "=================================================================\n",
      " input_1 (InputLayer)        [(None, 200)]             0         \n",
      "                                                                 \n",
      " embedding (Embedding)       (None, 200, 300)          79156200  \n",
      "                                                                 \n",
      " spatial_dropout1d (SpatialD  (None, 200, 300)         0         \n",
      " ropout1D)                                                       \n",
      "                                                                 \n",
      " bidirectional (Bidirectiona  (None, 200, 256)         330240    \n",
      " l)                                                              \n",
      "                                                                 \n",
      " global_max_pooling1d (Globa  (None, 256)              0         \n",
      " lMaxPooling1D)                                                  \n",
      "                                                                 \n",
      " dense (Dense)               (None, 6)                 1542      \n",
      "                                                                 \n",
      "=================================================================\n",
      "Total params: 79,487,982\n",
      "Trainable params: 331,782\n",
      "Non-trainable params: 79,156,200\n",
      "_________________________________________________________________\n"
     ]
    }
   ],
   "source": [
    "model_gru = build_model()\n",
    "model_gru.compile(optimizer='rmsprop',\n",
    "              loss='binary_crossentropy',\n",
    "              metrics=['accuracy'])\n",
    "\n",
    "model_gru.summary()"
   ]
  },
  {
   "cell_type": "markdown",
   "metadata": {
    "id": "sHrPeYI_Giky"
   },
   "source": [
    "#### Training Model with Best Parameters"
   ]
  },
  {
   "cell_type": "markdown",
   "metadata": {
    "id": "lIRoKKp9mzQz"
   },
   "source": [
    "GRU"
   ]
  },
  {
   "cell_type": "code",
   "execution_count": 118,
   "metadata": {
    "id": "U-fPTQKHFF61"
   },
   "outputs": [],
   "source": [
    "inp=Input(shape=(maxpadlen, ),dtype='int32')\n",
    "embedding_layer = Embedding(len(word_index) + 1,\n",
    "                           embedding_dim_fasttext,\n",
    "                           weights = [embedding_matrix_fasttext],\n",
    "                           input_length = maxpadlen,\n",
    "                           trainable=False,\n",
    "                           name = 'embeddings')\n",
    "embedded_sequences = embedding_layer(inp)"
   ]
  },
  {
   "cell_type": "code",
   "execution_count": 119,
   "metadata": {
    "colab": {
     "base_uri": "https://localhost:8080/"
    },
    "executionInfo": {
     "elapsed": 11908721,
     "status": "ok",
     "timestamp": 1652138480763,
     "user": {
      "displayName": "Harsh Attree",
      "userId": "01430067086563950496"
     },
     "user_tz": -330
    },
    "id": "iSqW0thULSae",
    "outputId": "f92be8b3-1384-4a77-e6db-2f467e7d254a"
   },
   "outputs": [
    {
     "name": "stdout",
     "output_type": "stream",
     "text": [
      "Epoch 1/2\n",
      "5589/5589 [==============================] - 6454s 1s/step - loss: 0.0660 - accuracy: 0.9787 - val_loss: 0.0564 - val_accuracy: 0.9942\n",
      "Epoch 2/2\n",
      "5589/5589 [==============================] - 6433s 1s/step - loss: 0.0572 - accuracy: 0.9787 - val_loss: 0.0536 - val_accuracy: 0.9768\n"
     ]
    }
   ],
   "source": [
    "model_info_1=model_gru.fit(x_train,y_train, epochs=2, batch_size=32,  validation_data=(x_val, y_val))"
   ]
  },
  {
   "cell_type": "markdown",
   "metadata": {
    "id": "kL2OV0YiB3sp"
   },
   "source": [
    "## Plotting Graphs"
   ]
  },
  {
   "cell_type": "markdown",
   "metadata": {
    "id": "oK9KghRBLlq9"
   },
   "source": [
    "### GRU"
   ]
  },
  {
   "cell_type": "code",
   "execution_count": 120,
   "metadata": {
    "colab": {
     "base_uri": "https://localhost:8080/",
     "height": 295
    },
    "executionInfo": {
     "elapsed": 664,
     "status": "ok",
     "timestamp": 1652138486816,
     "user": {
      "displayName": "Harsh Attree",
      "userId": "01430067086563950496"
     },
     "user_tz": -330
    },
    "id": "3qKSCDX-KjSX",
    "outputId": "c028d2c5-a5df-4bc2-d8be-118ec03b6cda"
   },
   "outputs": [
    {
     "data": {
      "image/png": "[encoded data removed]",
      "text/plain": [
       "<Figure size 432x288 with 1 Axes>"
      ]
     },
     "metadata": {
      "needs_background": "light"
     },
     "output_type": "display_data"
    }
   ],
   "source": [
    "loss = model_info_1.history['loss']\n",
    "val_loss = model_info_1.history['val_loss']\n",
    "\n",
    "epochs = range(1, len(loss)+1)\n",
    "\n",
    "plt.plot(epochs, loss, label='Training loss')\n",
    "plt.plot(epochs, val_loss, label='Validation loss')\n",
    "plt.title('Training and Validation loss')\n",
    "plt.xlabel('Epochs')\n",
    "plt.ylabel('Loss')\n",
    "plt.legend()\n",
    "plt.show();"
   ]
  },
  {
   "cell_type": "code",
   "execution_count": 121,
   "metadata": {
    "colab": {
     "base_uri": "https://localhost:8080/",
     "height": 295
    },
    "executionInfo": {
     "elapsed": 738,
     "status": "ok",
     "timestamp": 1652138495528,
     "user": {
      "displayName": "Harsh Attree",
      "userId": "01430067086563950496"
     },
     "user_tz": -330
    },
    "id": "zio5y-3yRn-6",
    "outputId": "47ce5e47-763b-4af4-9cd4-fc3183cd2320"
   },
   "outputs": [
    {
     "data": {
      "image/png": "[encoded data removed]",
      "text/plain": [
       "<Figure size 432x288 with 1 Axes>"
      ]
     },
     "metadata": {
      "needs_background": "light"
     },
     "output_type": "display_data"
    }
   ],
   "source": [
    "accuracy = model_info_1.history['accuracy']\n",
    "val_accuracy = model_info_1.history['val_accuracy']\n",
    "\n",
    "plt.plot(epochs, accuracy, label='Training accuracy')\n",
    "plt.plot(epochs, val_accuracy, label='Validation accuracy')\n",
    "plt.title('Training and validation accuracy')\n",
    "plt.ylabel('Accuracy')\n",
    "plt.xlabel('Epochs')\n",
    "plt.legend()\n",
    "plt.show();"
   ]
  },
  {
   "cell_type": "markdown",
   "metadata": {
    "id": "7wv1IdwZk_qG"
   },
   "source": [
    "# Saving the Model"
   ]
  },
  {
   "cell_type": "code",
   "execution_count": 122,
   "metadata": {
    "colab": {
     "base_uri": "https://localhost:8080/"
    },
    "executionInfo": {
     "elapsed": 14631,
     "status": "ok",
     "timestamp": 1652138519158,
     "user": {
      "displayName": "Harsh Attree",
      "userId": "01430067086563950496"
     },
     "user_tz": -330
    },
    "id": "eisFdjOUlBbM",
    "outputId": "73cc9a40-5ddc-4222-ed4d-b00a6434feea"
   },
   "outputs": [
    {
     "name": "stderr",
     "output_type": "stream",
     "text": [
      "WARNING:absl:Found untraced functions such as _update_step_xla while saving (showing 1 of 1). These functions will not be directly callable after loading.\n"
     ]
    },
    {
     "name": "stdout",
     "output_type": "stream",
     "text": [
      "INFO:tensorflow:Assets written to: Data/model_GRU\\assets\n"
     ]
    },
    {
     "name": "stderr",
     "output_type": "stream",
     "text": [
      "INFO:tensorflow:Assets written to: Data/model_GRU\\assets\n"
     ]
    }
   ],
   "source": [
    "model_gru.save('Data/model_GRU')"
   ]
  },
  {
   "cell_type": "markdown",
   "metadata": {
    "id": "bXx4IOYn4_XB"
   },
   "source": [
    "# Loading Saved Model"
   ]
  },
  {
   "cell_type": "code",
   "execution_count": 55,
   "metadata": {
    "id": "huVktHqRMSGc"
   },
   "outputs": [],
   "source": [
    "loaded_model_gru = keras.models.load_model('Data/model_GRU')"
   ]
  },
  {
   "cell_type": "markdown",
   "metadata": {
    "id": "kJJJs5txVS8S"
   },
   "source": [
    "# Generating the Output"
   ]
  },
  {
   "cell_type": "markdown",
   "metadata": {
    "id": "qBk_wYFWMY82"
   },
   "source": [
    "### GRU"
   ]
  },
  {
   "cell_type": "code",
   "execution_count": 56,
   "metadata": {
    "id": "aUL3S8xiCYxU"
   },
   "outputs": [
    {
     "name": "stdout",
     "output_type": "stream",
     "text": [
      "63812/63812 [==============================] - 1441s 23ms/step\n"
     ]
    }
   ],
   "source": [
    "test_values_1 = loaded_model_gru.predict([X_te], batch_size=1, verbose=1)"
   ]
  },
  {
   "cell_type": "code",
   "execution_count": 57,
   "metadata": {
    "id": "_FSvu4hpyU4r"
   },
   "outputs": [],
   "source": [
    "sample_submission = pd.read_csv(r'D:\\Aaryan project\\Toxic-comment\\Data\\train_preprocessed_first.csv')\n",
    "test_values_1=pd.DataFrame(test_values_1,columns=['toxic', 'severe_toxic', 'obscene', 'threat', 'insult', 'identity_hate'])\n",
    "submission = pd.DataFrame(sample_submission[\"id\"])\n",
    "combined_submission=pd.concat([submission,test_values_1],axis=1)\n",
    "combined_submission.to_csv(r'D:\\Aaryan project\\Toxic-comment\\Data\\combined_submission_model_1.csv', index=False)"
   ]
  },
  {
   "cell_type": "markdown",
   "metadata": {
    "id": "7HkAldq1IJcr"
   },
   "source": [
    "# Testing the Created Model"
   ]
  },
  {
   "cell_type": "code",
   "execution_count": 58,
   "metadata": {
    "id": "fPneHbuzIIxj"
   },
   "outputs": [],
   "source": [
    "def toxicity_level(string):\n",
    "    new_string = [string]\n",
    "    new_string = tokenizer.texts_to_sequences(new_string)\n",
    "    new_string = pad_sequences(new_string, maxlen=maxpadlen, padding='post')\n",
    "    \n",
    "    prediction = loaded_model_gru.predict(new_string) #(Change to model_1 or model_2 depending on the preference of model type|| Model 1: LSTM, Model 2:LSTM-CNN)\n",
    "    \n",
    "    print(\"Toxicity levels for '{}':\".format(string))\n",
    "    print('Toxic:         {:.0%}'.format(prediction[0][0]))\n",
    "    print('Severe Toxic:  {:.0%}'.format(prediction[0][1]))\n",
    "    print('Obscene:       {:.0%}'.format(prediction[0][2]))\n",
    "    print('Threat:        {:.0%}'.format(prediction[0][3]))\n",
    "    print('Insult:        {:.0%}'.format(prediction[0][4]))\n",
    "    print('Identity Hate: {:.0%}'.format(prediction[0][5]))\n",
    "    print()\n",
    "    \n",
    "    return"
   ]
  },
  {
   "cell_type": "code",
   "execution_count": 59,
   "metadata": {
    "colab": {
     "base_uri": "https://localhost:8080/"
    },
    "executionInfo": {
     "elapsed": 570,
     "status": "ok",
     "timestamp": 1652140141771,
     "user": {
      "displayName": "Harsh Attree",
      "userId": "01430067086563950496"
     },
     "user_tz": -330
    },
    "id": "FTAoKhmzI2Vl",
    "outputId": "8099f85f-bf0c-4320-c895-1567139ef127"
   },
   "outputs": [
    {
     "name": "stdout",
     "output_type": "stream",
     "text": [
      "1/1 [==============================] - 1s 807ms/step\n",
      "Toxicity levels for 'Are you a donkey':\n",
      "Toxic:         22%\n",
      "Severe Toxic:  0%\n",
      "Obscene:       7%\n",
      "Threat:        0%\n",
      "Insult:        9%\n",
      "Identity Hate: 0%\n",
      "\n"
     ]
    }
   ],
   "source": [
    "toxicity_level('Are you a donkey')"
   ]
  },
  {
   "cell_type": "code",
   "execution_count": 60,
   "metadata": {
    "colab": {
     "base_uri": "https://localhost:8080/"
    },
    "executionInfo": {
     "elapsed": 774,
     "status": "ok",
     "timestamp": 1652141584426,
     "user": {
      "displayName": "Harsh Attree",
      "userId": "01430067086563950496"
     },
     "user_tz": -330
    },
    "id": "7buS5QfPJJZV",
    "outputId": "8ad8ac15-4113-4585-fdce-3666042f4f02"
   },
   "outputs": [
    {
     "name": "stdout",
     "output_type": "stream",
     "text": [
      "1/1 [==============================] - 0s 67ms/step\n",
      "Toxicity levels for 'பெரிய கொழுத்த முட்டாள், எனக்கு முட்டாள்தனமாகத் தோன்றாதே.':\n",
      "Toxic:         2%\n",
      "Severe Toxic:  0%\n",
      "Obscene:       2%\n",
      "Threat:        0%\n",
      "Insult:        1%\n",
      "Identity Hate: 0%\n",
      "\n"
     ]
    }
   ],
   "source": [
    "toxicity_level('பெரிய கொழுத்த முட்டாள், எனக்கு முட்டாள்தனமாகத் தோன்றாதே.')"
   ]
  },
  {
   "cell_type": "code",
   "execution_count": 58,
   "metadata": {
    "colab": {
     "base_uri": "https://localhost:8080/"
    },
    "executionInfo": {
     "elapsed": 1260,
     "status": "ok",
     "timestamp": 1652142049340,
     "user": {
      "displayName": "Harsh Attree",
      "userId": "01430067086563950496"
     },
     "user_tz": -330
    },
    "id": "Be1lw-liIpfe",
    "outputId": "f53ab150-8164-4d94-ccdb-7c38aa6fe780"
   },
   "outputs": [
    {
     "name": "stdout",
     "output_type": "stream",
     "text": [
      "1/1 [==============================] - 0s 106ms/step\n",
      "Toxicity levels for 'मुझे बेवकूफ मत समझो, बड़ा मोटा':\n",
      "Toxic:         2%\n",
      "Severe Toxic:  0%\n",
      "Obscene:       2%\n",
      "Threat:        0%\n",
      "Insult:        2%\n",
      "Identity Hate: 0%\n",
      "\n"
     ]
    }
   ],
   "source": [
    "toxicity_level('मुझे बेवकूफ मत समझो')"
   ]
  },
  {
   "cell_type": "code",
   "execution_count": null,
   "metadata": {
    "colab": {
     "base_uri": "https://localhost:8080/"
    },
    "executionInfo": {
     "elapsed": 373,
     "status": "ok",
     "timestamp": 1652141485158,
     "user": {
      "displayName": "Harsh Attree",
      "userId": "01430067086563950496"
     },
     "user_tz": -330
    },
    "id": "oEerPUHpJXJK",
    "outputId": "1e74d477-5077-48a9-ecee-f6c6685f8556"
   },
   "outputs": [
    {
     "name": "stdout",
     "output_type": "stream",
     "text": [
      "Toxicity levels for 'Iṉiya nāḷ':\n",
      "Toxic:         10%\n",
      "Severe Toxic:  1%\n",
      "Obscene:       7%\n",
      "Threat:        0%\n",
      "Insult:        7%\n",
      "Identity Hate: 0%\n",
      "\n"
     ]
    }
   ],
   "source": [
    "toxicity_level('Iṉiya nāḷ')"
   ]
  },
  {
   "cell_type": "code",
   "execution_count": 61,
   "metadata": {
    "colab": {
     "base_uri": "https://localhost:8080/"
    },
    "executionInfo": {
     "elapsed": 488,
     "status": "ok",
     "timestamp": 1652139429511,
     "user": {
      "displayName": "Harsh Attree",
      "userId": "01430067086563950496"
     },
     "user_tz": -330
    },
    "id": "HZ-_6XzxIxxT",
    "outputId": "65baae8a-2847-4c82-c2f5-bb42121a660f"
   },
   "outputs": [
    {
     "name": "stdout",
     "output_type": "stream",
     "text": [
      "1/1 [==============================] - 1s 531ms/step\n",
      "Toxicity levels for 'fuck ofF!!':\n",
      "Toxic:         98%\n",
      "Severe Toxic:  23%\n",
      "Obscene:       99%\n",
      "Threat:        0%\n",
      "Insult:        77%\n",
      "Identity Hate: 0%\n",
      "\n"
     ]
    }
   ],
   "source": [
    "toxicity_level('fuck ofF!!')"
   ]
  },
  {
   "cell_type": "code",
   "execution_count": 66,
   "metadata": {
    "colab": {
     "base_uri": "https://localhost:8080/"
    },
    "executionInfo": {
     "elapsed": 591,
     "status": "ok",
     "timestamp": 1652139381826,
     "user": {
      "displayName": "Harsh Attree",
      "userId": "01430067086563950496"
     },
     "user_tz": -330
    },
    "id": "DkVUC-cSJ3r2",
    "outputId": "949071f8-cb38-4caf-8a4d-f38a617ce6cf"
   },
   "outputs": [
    {
     "name": "stdout",
     "output_type": "stream",
     "text": [
      "1/1 [==============================] - 0s 110ms/step\n",
      "Toxicity levels for 'Ḥpak':\n",
      "Toxic:         2%\n",
      "Severe Toxic:  0%\n",
      "Obscene:       2%\n",
      "Threat:        0%\n",
      "Insult:        2%\n",
      "Identity Hate: 0%\n",
      "\n"
     ]
    }
   ],
   "source": [
    "toxicity_level('Ḥpak')"
   ]
  },
  {
   "cell_type": "code",
   "execution_count": null,
   "metadata": {
    "colab": {
     "base_uri": "https://localhost:8080/"
    },
    "executionInfo": {
     "elapsed": 685,
     "status": "ok",
     "timestamp": 1652139433706,
     "user": {
      "displayName": "Harsh Attree",
      "userId": "01430067086563950496"
     },
     "user_tz": -330
    },
    "id": "1s_5EQEFJD3G",
    "outputId": "525d3150-8e42-4a45-f301-e38703e356aa"
   },
   "outputs": [
    {
     "name": "stdout",
     "output_type": "stream",
     "text": [
      "Toxicity levels for 'Hello, How are you?':\n",
      "Toxic:         1%\n",
      "Severe Toxic:  0%\n",
      "Obscene:       2%\n",
      "Threat:        0%\n",
      "Insult:        1%\n",
      "Identity Hate: 0%\n",
      "\n"
     ]
    }
   ],
   "source": [
    "toxicity_level('Hello, How are you?')"
   ]
  },
  {
   "cell_type": "code",
   "execution_count": 104,
   "metadata": {
    "colab": {
     "base_uri": "https://localhost:8080/"
    },
    "executionInfo": {
     "elapsed": 360,
     "status": "ok",
     "timestamp": 1652139438498,
     "user": {
      "displayName": "Harsh Attree",
      "userId": "01430067086563950496"
     },
     "user_tz": -330
    },
    "id": "apOGOBU3uZxl",
    "outputId": "4955b822-725b-4d8c-aadb-4c5c0a9b0ff9"
   },
   "outputs": [
    {
     "name": "stdout",
     "output_type": "stream",
     "text": [
      "1/1 [==============================] - 0s 146ms/step\n",
      "Toxicity levels for 'get the fuck away from me @sshole!!':\n",
      "Toxic:         96%\n",
      "Severe Toxic:  16%\n",
      "Obscene:       98%\n",
      "Threat:        4%\n",
      "Insult:        48%\n",
      "Identity Hate: 1%\n",
      "\n"
     ]
    }
   ],
   "source": [
    "toxicity_level('get the fuck away from me @sshole!!')"
   ]
  },
  {
   "cell_type": "code",
   "execution_count": 67,
   "metadata": {
    "id": "ecYhkN9gqc6P"
   },
   "outputs": [
    {
     "name": "stdout",
     "output_type": "stream",
     "text": [
      "1/1 [==============================] - 0s 86ms/step\n",
      "Toxicity levels for ' nigga':\n",
      "Toxic:         90%\n",
      "Severe Toxic:  10%\n",
      "Obscene:       86%\n",
      "Threat:        0%\n",
      "Insult:        81%\n",
      "Identity Hate: 77%\n",
      "\n"
     ]
    }
   ],
   "source": [
    "toxicity_level(' nigga')"
   ]
  },
  {
   "cell_type": "code",
   "execution_count": null,
   "metadata": {},
   "outputs": [],
   "source": []
  },
  {
   "cell_type": "code",
   "execution_count": null,
   "metadata": {},
   "outputs": [],
   "source": []
  }
 ],
 "metadata": {
  "colab": {
   "collapsed_sections": [
    "D8hAcigh3Sh3"
   ],
   "provenance": []
  },
  "kernelspec": {
   "display_name": "Python 3",
   "language": "python",
   "name": "python3"
  },
  "language_info": {
   "codemirror_mode": {
    "name": "ipython",
    "version": 3
   },
   "file_extension": ".py",
   "mimetype": "text/x-python",
   "name": "python",
   "nbconvert_exporter": "python",
   "pygments_lexer": "ipython3",
   "version": "3.8.8"
  },
  "widgets": {
   "application/vnd.jupyter.widget-state+json": {
    "0732e8113e8a4354b08c700ce8232f27": {
     "model_module": "@jupyter-widgets/controls",
     "model_module_version": "1.5.0",
     "model_name": "FloatProgressModel",
     "state": {
      "_dom_classes": [],
      "_model_module": "@jupyter-widgets/controls",
      "_model_module_version": "1.5.0",
      "_model_name": "FloatProgressModel",
      "_view_count": null,
      "_view_module": "@jupyter-widgets/controls",
      "_view_module_version": "1.5.0",
      "_view_name": "ProgressView",
      "bar_style": "success",
      "description": "",
      "description_tooltip": null,
      "layout": "IPY_MODEL_2e86e5a358e44fafb64e2c3cb41cb389",
      "max": 159571,
      "min": 0,
      "orientation": "horizontal",
      "style": "IPY_MODEL_0a4a17aa9a9d45ca890abda43c3e36a5",
      "value": 159571
     }
    },
    "095ce04808f5461aa14796a1954b1d34": {
     "model_module": "@jupyter-widgets/base",
     "model_module_version": "1.2.0",
     "model_name": "LayoutModel",
     "state": {
      "_model_module": "@jupyter-widgets/base",
      "_model_module_version": "1.2.0",
      "_model_name": "LayoutModel",
      "_view_count": null,
      "_view_module": "@jupyter-widgets/base",
      "_view_module_version": "1.2.0",
      "_view_name": "LayoutView",
      "align_content": null,
      "align_items": null,
      "align_self": null,
      "border": null,
      "bottom": null,
      "display": null,
      "flex": null,
      "flex_flow": null,
      "grid_area": null,
      "grid_auto_columns": null,
      "grid_auto_flow": null,
      "grid_auto_rows": null,
      "grid_column": null,
      "grid_gap": null,
      "grid_row": null,
      "grid_template_areas": null,
      "grid_template_columns": null,
      "grid_template_rows": null,
      "height": null,
      "justify_content": null,
      "justify_items": null,
      "left": null,
      "margin": null,
      "max_height": null,
      "max_width": null,
      "min_height": null,
      "min_width": null,
      "object_fit": null,
      "object_position": null,
      "order": null,
      "overflow": null,
      "overflow_x": null,
      "overflow_y": null,
      "padding": null,
      "right": null,
      "top": null,
      "visibility": null,
      "width": null
     }
    },
    "0a2a729b22864d4ebc9ca873b0ed2e14": {
     "model_module": "@jupyter-widgets/controls",
     "model_module_version": "1.5.0",
     "model_name": "HTMLModel",
     "state": {
      "_dom_classes": [],
      "_model_module": "@jupyter-widgets/controls",
      "_model_module_version": "1.5.0",
      "_model_name": "HTMLModel",
      "_view_count": null,
      "_view_module": "@jupyter-widgets/controls",
      "_view_module_version": "1.5.0",
      "_view_name": "HTMLView",
      "description": "",
      "description_tooltip": null,
      "layout": "IPY_MODEL_2da6455630ce437d9bddde1a7ca5a372",
      "placeholder": "​",
      "style": "IPY_MODEL_b80a008c64f540e3b8db54afe9d47e0d",
      "value": " 159571/159571 [02:27&lt;00:00, 1049.52it/s]"
     }
    },
    "0a4a17aa9a9d45ca890abda43c3e36a5": {
     "model_module": "@jupyter-widgets/controls",
     "model_module_version": "1.5.0",
     "model_name": "ProgressStyleModel",
     "state": {
      "_model_module": "@jupyter-widgets/controls",
      "_model_module_version": "1.5.0",
      "_model_name": "ProgressStyleModel",
      "_view_count": null,
      "_view_module": "@jupyter-widgets/base",
      "_view_module_version": "1.2.0",
      "_view_name": "StyleView",
      "bar_color": null,
      "description_width": ""
     }
    },
    "0f1f914f03df4a7284490f8f97efb713": {
     "model_module": "@jupyter-widgets/base",
     "model_module_version": "1.2.0",
     "model_name": "LayoutModel",
     "state": {
      "_model_module": "@jupyter-widgets/base",
      "_model_module_version": "1.2.0",
      "_model_name": "LayoutModel",
      "_view_count": null,
      "_view_module": "@jupyter-widgets/base",
      "_view_module_version": "1.2.0",
      "_view_name": "LayoutView",
      "align_content": null,
      "align_items": null,
      "align_self": null,
      "border": null,
      "bottom": null,
      "display": null,
      "flex": null,
      "flex_flow": null,
      "grid_area": null,
      "grid_auto_columns": null,
      "grid_auto_flow": null,
      "grid_auto_rows": null,
      "grid_column": null,
      "grid_gap": null,
      "grid_row": null,
      "grid_template_areas": null,
      "grid_template_columns": null,
      "grid_template_rows": null,
      "height": null,
      "justify_content": null,
      "justify_items": null,
      "left": null,
      "margin": null,
      "max_height": null,
      "max_width": null,
      "min_height": null,
      "min_width": null,
      "object_fit": null,
      "object_position": null,
      "order": null,
      "overflow": null,
      "overflow_x": null,
      "overflow_y": null,
      "padding": null,
      "right": null,
      "top": null,
      "visibility": null,
      "width": null
     }
    },
    "13490f332cde4bfb8e5d969aa5961433": {
     "model_module": "@jupyter-widgets/controls",
     "model_module_version": "1.5.0",
     "model_name": "ProgressStyleModel",
     "state": {
      "_model_module": "@jupyter-widgets/controls",
      "_model_module_version": "1.5.0",
      "_model_name": "ProgressStyleModel",
      "_view_count": null,
      "_view_module": "@jupyter-widgets/base",
      "_view_module_version": "1.2.0",
      "_view_name": "StyleView",
      "bar_color": null,
      "description_width": ""
     }
    },
    "137f1b0c32e04d4782f42703784f65ea": {
     "model_module": "@jupyter-widgets/controls",
     "model_module_version": "1.5.0",
     "model_name": "HTMLModel",
     "state": {
      "_dom_classes": [],
      "_model_module": "@jupyter-widgets/controls",
      "_model_module_version": "1.5.0",
      "_model_name": "HTMLModel",
      "_view_count": null,
      "_view_module": "@jupyter-widgets/controls",
      "_view_module_version": "1.5.0",
      "_view_name": "HTMLView",
      "description": "",
      "description_tooltip": null,
      "layout": "IPY_MODEL_095ce04808f5461aa14796a1954b1d34",
      "placeholder": "​",
      "style": "IPY_MODEL_1444df70fff748f0b3be436012f410cb",
      "value": "100%"
     }
    },
    "1444df70fff748f0b3be436012f410cb": {
     "model_module": "@jupyter-widgets/controls",
     "model_module_version": "1.5.0",
     "model_name": "DescriptionStyleModel",
     "state": {
      "_model_module": "@jupyter-widgets/controls",
      "_model_module_version": "1.5.0",
      "_model_name": "DescriptionStyleModel",
      "_view_count": null,
      "_view_module": "@jupyter-widgets/base",
      "_view_module_version": "1.2.0",
      "_view_name": "StyleView",
      "description_width": ""
     }
    },
    "145dba4b3baf4175b4192a4cdda25ce8": {
     "model_module": "@jupyter-widgets/base",
     "model_module_version": "1.2.0",
     "model_name": "LayoutModel",
     "state": {
      "_model_module": "@jupyter-widgets/base",
      "_model_module_version": "1.2.0",
      "_model_name": "LayoutModel",
      "_view_count": null,
      "_view_module": "@jupyter-widgets/base",
      "_view_module_version": "1.2.0",
      "_view_name": "LayoutView",
      "align_content": null,
      "align_items": null,
      "align_self": null,
      "border": null,
      "bottom": null,
      "display": null,
      "flex": null,
      "flex_flow": null,
      "grid_area": null,
      "grid_auto_columns": null,
      "grid_auto_flow": null,
      "grid_auto_rows": null,
      "grid_column": null,
      "grid_gap": null,
      "grid_row": null,
      "grid_template_areas": null,
      "grid_template_columns": null,
      "grid_template_rows": null,
      "height": null,
      "justify_content": null,
      "justify_items": null,
      "left": null,
      "margin": null,
      "max_height": null,
      "max_width": null,
      "min_height": null,
      "min_width": null,
      "object_fit": null,
      "object_position": null,
      "order": null,
      "overflow": null,
      "overflow_x": null,
      "overflow_y": null,
      "padding": null,
      "right": null,
      "top": null,
      "visibility": null,
      "width": null
     }
    },
    "167c014cd658467186229b26c85d129e": {
     "model_module": "@jupyter-widgets/base",
     "model_module_version": "1.2.0",
     "model_name": "LayoutModel",
     "state": {
      "_model_module": "@jupyter-widgets/base",
      "_model_module_version": "1.2.0",
      "_model_name": "LayoutModel",
      "_view_count": null,
      "_view_module": "@jupyter-widgets/base",
      "_view_module_version": "1.2.0",
      "_view_name": "LayoutView",
      "align_content": null,
      "align_items": null,
      "align_self": null,
      "border": null,
      "bottom": null,
      "display": null,
      "flex": null,
      "flex_flow": null,
      "grid_area": null,
      "grid_auto_columns": null,
      "grid_auto_flow": null,
      "grid_auto_rows": null,
      "grid_column": null,
      "grid_gap": null,
      "grid_row": null,
      "grid_template_areas": null,
      "grid_template_columns": null,
      "grid_template_rows": null,
      "height": null,
      "justify_content": null,
      "justify_items": null,
      "left": null,
      "margin": null,
      "max_height": null,
      "max_width": null,
      "min_height": null,
      "min_width": null,
      "object_fit": null,
      "object_position": null,
      "order": null,
      "overflow": null,
      "overflow_x": null,
      "overflow_y": null,
      "padding": null,
      "right": null,
      "top": null,
      "visibility": null,
      "width": null
     }
    },
    "1b68379bd7444134b6f9883f4b7738ec": {
     "model_module": "@jupyter-widgets/controls",
     "model_module_version": "1.5.0",
     "model_name": "HBoxModel",
     "state": {
      "_dom_classes": [],
      "_model_module": "@jupyter-widgets/controls",
      "_model_module_version": "1.5.0",
      "_model_name": "HBoxModel",
      "_view_count": null,
      "_view_module": "@jupyter-widgets/controls",
      "_view_module_version": "1.5.0",
      "_view_name": "HBoxView",
      "box_style": "",
      "children": [
       "IPY_MODEL_57f49cffbf4a4728a10482c00c48422f",
       "IPY_MODEL_0732e8113e8a4354b08c700ce8232f27",
       "IPY_MODEL_0a2a729b22864d4ebc9ca873b0ed2e14"
      ],
      "layout": "IPY_MODEL_6ae70666b22e490ebff876a0feb45fd4"
     }
    },
    "1f9d96d0fa814351bafb749a197bc67e": {
     "model_module": "@jupyter-widgets/controls",
     "model_module_version": "1.5.0",
     "model_name": "HBoxModel",
     "state": {
      "_dom_classes": [],
      "_model_module": "@jupyter-widgets/controls",
      "_model_module_version": "1.5.0",
      "_model_name": "HBoxModel",
      "_view_count": null,
      "_view_module": "@jupyter-widgets/controls",
      "_view_module_version": "1.5.0",
      "_view_name": "HBoxView",
      "box_style": "",
      "children": [
       "IPY_MODEL_e8ba4cf7f87349c3ac984f1dc6e44bdb",
       "IPY_MODEL_284d723b75364dc28906bcbd63e412eb",
       "IPY_MODEL_ca375d30b2cc4bc5ab9b9963a089ffbc"
      ],
      "layout": "IPY_MODEL_db566189934942c2acc4dfc985f8e37a"
     }
    },
    "239b5a9740d044bb813fded5e7b25a6e": {
     "model_module": "@jupyter-widgets/controls",
     "model_module_version": "1.5.0",
     "model_name": "FloatProgressModel",
     "state": {
      "_dom_classes": [],
      "_model_module": "@jupyter-widgets/controls",
      "_model_module_version": "1.5.0",
      "_model_name": "FloatProgressModel",
      "_view_count": null,
      "_view_module": "@jupyter-widgets/controls",
      "_view_module_version": "1.5.0",
      "_view_name": "ProgressView",
      "bar_style": "success",
      "description": "",
      "description_tooltip": null,
      "layout": "IPY_MODEL_32f9cf96fd0043899b213d39722dea35",
      "max": 153164,
      "min": 0,
      "orientation": "horizontal",
      "style": "IPY_MODEL_9a41019ce46c4a0ab656f142d9411966",
      "value": 153164
     }
    },
    "252a810086d645169672f0f8f9bd1906": {
     "model_module": "@jupyter-widgets/controls",
     "model_module_version": "1.5.0",
     "model_name": "ProgressStyleModel",
     "state": {
      "_model_module": "@jupyter-widgets/controls",
      "_model_module_version": "1.5.0",
      "_model_name": "ProgressStyleModel",
      "_view_count": null,
      "_view_module": "@jupyter-widgets/base",
      "_view_module_version": "1.2.0",
      "_view_name": "StyleView",
      "bar_color": null,
      "description_width": ""
     }
    },
    "25b71b30219d497b9aca65a2f40378bc": {
     "model_module": "@jupyter-widgets/controls",
     "model_module_version": "1.5.0",
     "model_name": "HTMLModel",
     "state": {
      "_dom_classes": [],
      "_model_module": "@jupyter-widgets/controls",
      "_model_module_version": "1.5.0",
      "_model_name": "HTMLModel",
      "_view_count": null,
      "_view_module": "@jupyter-widgets/controls",
      "_view_module_version": "1.5.0",
      "_view_name": "HTMLView",
      "description": "",
      "description_tooltip": null,
      "layout": "IPY_MODEL_817e792967f1491a9aef31c36fc2c0a0",
      "placeholder": "​",
      "style": "IPY_MODEL_637c544cc6b24b3db44d18b6542c589b",
      "value": "100%"
     }
    },
    "25b7c32ddcc44913b833e7ee4de5f390": {
     "model_module": "@jupyter-widgets/base",
     "model_module_version": "1.2.0",
     "model_name": "LayoutModel",
     "state": {
      "_model_module": "@jupyter-widgets/base",
      "_model_module_version": "1.2.0",
      "_model_name": "LayoutModel",
      "_view_count": null,
      "_view_module": "@jupyter-widgets/base",
      "_view_module_version": "1.2.0",
      "_view_name": "LayoutView",
      "align_content": null,
      "align_items": null,
      "align_self": null,
      "border": null,
      "bottom": null,
      "display": null,
      "flex": null,
      "flex_flow": null,
      "grid_area": null,
      "grid_auto_columns": null,
      "grid_auto_flow": null,
      "grid_auto_rows": null,
      "grid_column": null,
      "grid_gap": null,
      "grid_row": null,
      "grid_template_areas": null,
      "grid_template_columns": null,
      "grid_template_rows": null,
      "height": null,
      "justify_content": null,
      "justify_items": null,
      "left": null,
      "margin": null,
      "max_height": null,
      "max_width": null,
      "min_height": null,
      "min_width": null,
      "object_fit": null,
      "object_position": null,
      "order": null,
      "overflow": null,
      "overflow_x": null,
      "overflow_y": null,
      "padding": null,
      "right": null,
      "top": null,
      "visibility": null,
      "width": null
     }
    },
    "26e40d7256ae4be08f94ab84c59c474e": {
     "model_module": "@jupyter-widgets/controls",
     "model_module_version": "1.5.0",
     "model_name": "HTMLModel",
     "state": {
      "_dom_classes": [],
      "_model_module": "@jupyter-widgets/controls",
      "_model_module_version": "1.5.0",
      "_model_name": "HTMLModel",
      "_view_count": null,
      "_view_module": "@jupyter-widgets/controls",
      "_view_module_version": "1.5.0",
      "_view_name": "HTMLView",
      "description": "",
      "description_tooltip": null,
      "layout": "IPY_MODEL_cccf51d628d448cea54ee75d095f18a3",
      "placeholder": "​",
      "style": "IPY_MODEL_ec420323b3f4435ab3264f74448829f8",
      "value": " 153164/153164 [00:02&lt;00:00, 66458.33it/s]"
     }
    },
    "284d723b75364dc28906bcbd63e412eb": {
     "model_module": "@jupyter-widgets/controls",
     "model_module_version": "1.5.0",
     "model_name": "FloatProgressModel",
     "state": {
      "_dom_classes": [],
      "_model_module": "@jupyter-widgets/controls",
      "_model_module_version": "1.5.0",
      "_model_name": "FloatProgressModel",
      "_view_count": null,
      "_view_module": "@jupyter-widgets/controls",
      "_view_module_version": "1.5.0",
      "_view_name": "ProgressView",
      "bar_style": "success",
      "description": "",
      "description_tooltip": null,
      "layout": "IPY_MODEL_abe469d4a98b4448b4b25403706f1406",
      "max": 159571,
      "min": 0,
      "orientation": "horizontal",
      "style": "IPY_MODEL_13490f332cde4bfb8e5d969aa5961433",
      "value": 159571
     }
    },
    "2da6455630ce437d9bddde1a7ca5a372": {
     "model_module": "@jupyter-widgets/base",
     "model_module_version": "1.2.0",
     "model_name": "LayoutModel",
     "state": {
      "_model_module": "@jupyter-widgets/base",
      "_model_module_version": "1.2.0",
      "_model_name": "LayoutModel",
      "_view_count": null,
      "_view_module": "@jupyter-widgets/base",
      "_view_module_version": "1.2.0",
      "_view_name": "LayoutView",
      "align_content": null,
      "align_items": null,
      "align_self": null,
      "border": null,
      "bottom": null,
      "display": null,
      "flex": null,
      "flex_flow": null,
      "grid_area": null,
      "grid_auto_columns": null,
      "grid_auto_flow": null,
      "grid_auto_rows": null,
      "grid_column": null,
      "grid_gap": null,
      "grid_row": null,
      "grid_template_areas": null,
      "grid_template_columns": null,
      "grid_template_rows": null,
      "height": null,
      "justify_content": null,
      "justify_items": null,
      "left": null,
      "margin": null,
      "max_height": null,
      "max_width": null,
      "min_height": null,
      "min_width": null,
      "object_fit": null,
      "object_position": null,
      "order": null,
      "overflow": null,
      "overflow_x": null,
      "overflow_y": null,
      "padding": null,
      "right": null,
      "top": null,
      "visibility": null,
      "width": null
     }
    },
    "2e86e5a358e44fafb64e2c3cb41cb389": {
     "model_module": "@jupyter-widgets/base",
     "model_module_version": "1.2.0",
     "model_name": "LayoutModel",
     "state": {
      "_model_module": "@jupyter-widgets/base",
      "_model_module_version": "1.2.0",
      "_model_name": "LayoutModel",
      "_view_count": null,
      "_view_module": "@jupyter-widgets/base",
      "_view_module_version": "1.2.0",
      "_view_name": "LayoutView",
      "align_content": null,
      "align_items": null,
      "align_self": null,
      "border": null,
      "bottom": null,
      "display": null,
      "flex": null,
      "flex_flow": null,
      "grid_area": null,
      "grid_auto_columns": null,
      "grid_auto_flow": null,
      "grid_auto_rows": null,
      "grid_column": null,
      "grid_gap": null,
      "grid_row": null,
      "grid_template_areas": null,
      "grid_template_columns": null,
      "grid_template_rows": null,
      "height": null,
      "justify_content": null,
      "justify_items": null,
      "left": null,
      "margin": null,
      "max_height": null,
      "max_width": null,
      "min_height": null,
      "min_width": null,
      "object_fit": null,
      "object_position": null,
      "order": null,
      "overflow": null,
      "overflow_x": null,
      "overflow_y": null,
      "padding": null,
      "right": null,
      "top": null,
      "visibility": null,
      "width": null
     }
    },
    "32f9cf96fd0043899b213d39722dea35": {
     "model_module": "@jupyter-widgets/base",
     "model_module_version": "1.2.0",
     "model_name": "LayoutModel",
     "state": {
      "_model_module": "@jupyter-widgets/base",
      "_model_module_version": "1.2.0",
      "_model_name": "LayoutModel",
      "_view_count": null,
      "_view_module": "@jupyter-widgets/base",
      "_view_module_version": "1.2.0",
      "_view_name": "LayoutView",
      "align_content": null,
      "align_items": null,
      "align_self": null,
      "border": null,
      "bottom": null,
      "display": null,
      "flex": null,
      "flex_flow": null,
      "grid_area": null,
      "grid_auto_columns": null,
      "grid_auto_flow": null,
      "grid_auto_rows": null,
      "grid_column": null,
      "grid_gap": null,
      "grid_row": null,
      "grid_template_areas": null,
      "grid_template_columns": null,
      "grid_template_rows": null,
      "height": null,
      "justify_content": null,
      "justify_items": null,
      "left": null,
      "margin": null,
      "max_height": null,
      "max_width": null,
      "min_height": null,
      "min_width": null,
      "object_fit": null,
      "object_position": null,
      "order": null,
      "overflow": null,
      "overflow_x": null,
      "overflow_y": null,
      "padding": null,
      "right": null,
      "top": null,
      "visibility": null,
      "width": null
     }
    },
    "34ac3c938b4c4155a4cea9e23b3b10bf": {
     "model_module": "@jupyter-widgets/controls",
     "model_module_version": "1.5.0",
     "model_name": "DescriptionStyleModel",
     "state": {
      "_model_module": "@jupyter-widgets/controls",
      "_model_module_version": "1.5.0",
      "_model_name": "DescriptionStyleModel",
      "_view_count": null,
      "_view_module": "@jupyter-widgets/base",
      "_view_module_version": "1.2.0",
      "_view_name": "StyleView",
      "description_width": ""
     }
    },
    "3ec0f2f4ac9e46cabbb291d4f3f06908": {
     "model_module": "@jupyter-widgets/base",
     "model_module_version": "1.2.0",
     "model_name": "LayoutModel",
     "state": {
      "_model_module": "@jupyter-widgets/base",
      "_model_module_version": "1.2.0",
      "_model_name": "LayoutModel",
      "_view_count": null,
      "_view_module": "@jupyter-widgets/base",
      "_view_module_version": "1.2.0",
      "_view_name": "LayoutView",
      "align_content": null,
      "align_items": null,
      "align_self": null,
      "border": null,
      "bottom": null,
      "display": null,
      "flex": null,
      "flex_flow": null,
      "grid_area": null,
      "grid_auto_columns": null,
      "grid_auto_flow": null,
      "grid_auto_rows": null,
      "grid_column": null,
      "grid_gap": null,
      "grid_row": null,
      "grid_template_areas": null,
      "grid_template_columns": null,
      "grid_template_rows": null,
      "height": null,
      "justify_content": null,
      "justify_items": null,
      "left": null,
      "margin": null,
      "max_height": null,
      "max_width": null,
      "min_height": null,
      "min_width": null,
      "object_fit": null,
      "object_position": null,
      "order": null,
      "overflow": null,
      "overflow_x": null,
      "overflow_y": null,
      "padding": null,
      "right": null,
      "top": null,
      "visibility": null,
      "width": null
     }
    },
    "49b9c291a2b24e7393ce9607165a47e9": {
     "model_module": "@jupyter-widgets/controls",
     "model_module_version": "1.5.0",
     "model_name": "HBoxModel",
     "state": {
      "_dom_classes": [],
      "_model_module": "@jupyter-widgets/controls",
      "_model_module_version": "1.5.0",
      "_model_name": "HBoxModel",
      "_view_count": null,
      "_view_module": "@jupyter-widgets/controls",
      "_view_module_version": "1.5.0",
      "_view_name": "HBoxView",
      "box_style": "",
      "children": [
       "IPY_MODEL_25b71b30219d497b9aca65a2f40378bc",
       "IPY_MODEL_239b5a9740d044bb813fded5e7b25a6e",
       "IPY_MODEL_f1471882163441c6940e5cc235ed0e31"
      ],
      "layout": "IPY_MODEL_167c014cd658467186229b26c85d129e"
     }
    },
    "57f49cffbf4a4728a10482c00c48422f": {
     "model_module": "@jupyter-widgets/controls",
     "model_module_version": "1.5.0",
     "model_name": "HTMLModel",
     "state": {
      "_dom_classes": [],
      "_model_module": "@jupyter-widgets/controls",
      "_model_module_version": "1.5.0",
      "_model_name": "HTMLModel",
      "_view_count": null,
      "_view_module": "@jupyter-widgets/controls",
      "_view_module_version": "1.5.0",
      "_view_name": "HTMLView",
      "description": "",
      "description_tooltip": null,
      "layout": "IPY_MODEL_8572fc4dec4a4825aa118b5c11722964",
      "placeholder": "​",
      "style": "IPY_MODEL_5a408ace836a4f5eb805e6dc36177abe",
      "value": "100%"
     }
    },
    "5a408ace836a4f5eb805e6dc36177abe": {
     "model_module": "@jupyter-widgets/controls",
     "model_module_version": "1.5.0",
     "model_name": "DescriptionStyleModel",
     "state": {
      "_model_module": "@jupyter-widgets/controls",
      "_model_module_version": "1.5.0",
      "_model_name": "DescriptionStyleModel",
      "_view_count": null,
      "_view_module": "@jupyter-widgets/base",
      "_view_module_version": "1.2.0",
      "_view_name": "StyleView",
      "description_width": ""
     }
    },
    "5b31a7fc650c4807a0c1f97edeb40946": {
     "model_module": "@jupyter-widgets/controls",
     "model_module_version": "1.5.0",
     "model_name": "DescriptionStyleModel",
     "state": {
      "_model_module": "@jupyter-widgets/controls",
      "_model_module_version": "1.5.0",
      "_model_name": "DescriptionStyleModel",
      "_view_count": null,
      "_view_module": "@jupyter-widgets/base",
      "_view_module_version": "1.2.0",
      "_view_name": "StyleView",
      "description_width": ""
     }
    },
    "637c544cc6b24b3db44d18b6542c589b": {
     "model_module": "@jupyter-widgets/controls",
     "model_module_version": "1.5.0",
     "model_name": "DescriptionStyleModel",
     "state": {
      "_model_module": "@jupyter-widgets/controls",
      "_model_module_version": "1.5.0",
      "_model_name": "DescriptionStyleModel",
      "_view_count": null,
      "_view_module": "@jupyter-widgets/base",
      "_view_module_version": "1.2.0",
      "_view_name": "StyleView",
      "description_width": ""
     }
    },
    "662ff04ad1364f0eab35485b72285b4c": {
     "model_module": "@jupyter-widgets/controls",
     "model_module_version": "1.5.0",
     "model_name": "HBoxModel",
     "state": {
      "_dom_classes": [],
      "_model_module": "@jupyter-widgets/controls",
      "_model_module_version": "1.5.0",
      "_model_name": "HBoxModel",
      "_view_count": null,
      "_view_module": "@jupyter-widgets/controls",
      "_view_module_version": "1.5.0",
      "_view_name": "HBoxView",
      "box_style": "",
      "children": [
       "IPY_MODEL_80a349fd1a224e0ca622678007e1bc1b",
       "IPY_MODEL_dda52b48db8f437ab3156ad14f2680fd",
       "IPY_MODEL_26e40d7256ae4be08f94ab84c59c474e"
      ],
      "layout": "IPY_MODEL_f90589325a3346ac840dc8d5a46a8e9c"
     }
    },
    "6ae70666b22e490ebff876a0feb45fd4": {
     "model_module": "@jupyter-widgets/base",
     "model_module_version": "1.2.0",
     "model_name": "LayoutModel",
     "state": {
      "_model_module": "@jupyter-widgets/base",
      "_model_module_version": "1.2.0",
      "_model_name": "LayoutModel",
      "_view_count": null,
      "_view_module": "@jupyter-widgets/base",
      "_view_module_version": "1.2.0",
      "_view_name": "LayoutView",
      "align_content": null,
      "align_items": null,
      "align_self": null,
      "border": null,
      "bottom": null,
      "display": null,
      "flex": null,
      "flex_flow": null,
      "grid_area": null,
      "grid_auto_columns": null,
      "grid_auto_flow": null,
      "grid_auto_rows": null,
      "grid_column": null,
      "grid_gap": null,
      "grid_row": null,
      "grid_template_areas": null,
      "grid_template_columns": null,
      "grid_template_rows": null,
      "height": null,
      "justify_content": null,
      "justify_items": null,
      "left": null,
      "margin": null,
      "max_height": null,
      "max_width": null,
      "min_height": null,
      "min_width": null,
      "object_fit": null,
      "object_position": null,
      "order": null,
      "overflow": null,
      "overflow_x": null,
      "overflow_y": null,
      "padding": null,
      "right": null,
      "top": null,
      "visibility": null,
      "width": null
     }
    },
    "769e975a1b7b4b1fa7b1707e024db48d": {
     "model_module": "@jupyter-widgets/base",
     "model_module_version": "1.2.0",
     "model_name": "LayoutModel",
     "state": {
      "_model_module": "@jupyter-widgets/base",
      "_model_module_version": "1.2.0",
      "_model_name": "LayoutModel",
      "_view_count": null,
      "_view_module": "@jupyter-widgets/base",
      "_view_module_version": "1.2.0",
      "_view_name": "LayoutView",
      "align_content": null,
      "align_items": null,
      "align_self": null,
      "border": null,
      "bottom": null,
      "display": null,
      "flex": null,
      "flex_flow": null,
      "grid_area": null,
      "grid_auto_columns": null,
      "grid_auto_flow": null,
      "grid_auto_rows": null,
      "grid_column": null,
      "grid_gap": null,
      "grid_row": null,
      "grid_template_areas": null,
      "grid_template_columns": null,
      "grid_template_rows": null,
      "height": null,
      "justify_content": null,
      "justify_items": null,
      "left": null,
      "margin": null,
      "max_height": null,
      "max_width": null,
      "min_height": null,
      "min_width": null,
      "object_fit": null,
      "object_position": null,
      "order": null,
      "overflow": null,
      "overflow_x": null,
      "overflow_y": null,
      "padding": null,
      "right": null,
      "top": null,
      "visibility": null,
      "width": null
     }
    },
    "80a349fd1a224e0ca622678007e1bc1b": {
     "model_module": "@jupyter-widgets/controls",
     "model_module_version": "1.5.0",
     "model_name": "HTMLModel",
     "state": {
      "_dom_classes": [],
      "_model_module": "@jupyter-widgets/controls",
      "_model_module_version": "1.5.0",
      "_model_name": "HTMLModel",
      "_view_count": null,
      "_view_module": "@jupyter-widgets/controls",
      "_view_module_version": "1.5.0",
      "_view_name": "HTMLView",
      "description": "",
      "description_tooltip": null,
      "layout": "IPY_MODEL_8b110fb128ae4d638a3f27b827a98147",
      "placeholder": "​",
      "style": "IPY_MODEL_5b31a7fc650c4807a0c1f97edeb40946",
      "value": "100%"
     }
    },
    "817e792967f1491a9aef31c36fc2c0a0": {
     "model_module": "@jupyter-widgets/base",
     "model_module_version": "1.2.0",
     "model_name": "LayoutModel",
     "state": {
      "_model_module": "@jupyter-widgets/base",
      "_model_module_version": "1.2.0",
      "_model_name": "LayoutModel",
      "_view_count": null,
      "_view_module": "@jupyter-widgets/base",
      "_view_module_version": "1.2.0",
      "_view_name": "LayoutView",
      "align_content": null,
      "align_items": null,
      "align_self": null,
      "border": null,
      "bottom": null,
      "display": null,
      "flex": null,
      "flex_flow": null,
      "grid_area": null,
      "grid_auto_columns": null,
      "grid_auto_flow": null,
      "grid_auto_rows": null,
      "grid_column": null,
      "grid_gap": null,
      "grid_row": null,
      "grid_template_areas": null,
      "grid_template_columns": null,
      "grid_template_rows": null,
      "height": null,
      "justify_content": null,
      "justify_items": null,
      "left": null,
      "margin": null,
      "max_height": null,
      "max_width": null,
      "min_height": null,
      "min_width": null,
      "object_fit": null,
      "object_position": null,
      "order": null,
      "overflow": null,
      "overflow_x": null,
      "overflow_y": null,
      "padding": null,
      "right": null,
      "top": null,
      "visibility": null,
      "width": null
     }
    },
    "8572fc4dec4a4825aa118b5c11722964": {
     "model_module": "@jupyter-widgets/base",
     "model_module_version": "1.2.0",
     "model_name": "LayoutModel",
     "state": {
      "_model_module": "@jupyter-widgets/base",
      "_model_module_version": "1.2.0",
      "_model_name": "LayoutModel",
      "_view_count": null,
      "_view_module": "@jupyter-widgets/base",
      "_view_module_version": "1.2.0",
      "_view_name": "LayoutView",
      "align_content": null,
      "align_items": null,
      "align_self": null,
      "border": null,
      "bottom": null,
      "display": null,
      "flex": null,
      "flex_flow": null,
      "grid_area": null,
      "grid_auto_columns": null,
      "grid_auto_flow": null,
      "grid_auto_rows": null,
      "grid_column": null,
      "grid_gap": null,
      "grid_row": null,
      "grid_template_areas": null,
      "grid_template_columns": null,
      "grid_template_rows": null,
      "height": null,
      "justify_content": null,
      "justify_items": null,
      "left": null,
      "margin": null,
      "max_height": null,
      "max_width": null,
      "min_height": null,
      "min_width": null,
      "object_fit": null,
      "object_position": null,
      "order": null,
      "overflow": null,
      "overflow_x": null,
      "overflow_y": null,
      "padding": null,
      "right": null,
      "top": null,
      "visibility": null,
      "width": null
     }
    },
    "8b110fb128ae4d638a3f27b827a98147": {
     "model_module": "@jupyter-widgets/base",
     "model_module_version": "1.2.0",
     "model_name": "LayoutModel",
     "state": {
      "_model_module": "@jupyter-widgets/base",
      "_model_module_version": "1.2.0",
      "_model_name": "LayoutModel",
      "_view_count": null,
      "_view_module": "@jupyter-widgets/base",
      "_view_module_version": "1.2.0",
      "_view_name": "LayoutView",
      "align_content": null,
      "align_items": null,
      "align_self": null,
      "border": null,
      "bottom": null,
      "display": null,
      "flex": null,
      "flex_flow": null,
      "grid_area": null,
      "grid_auto_columns": null,
      "grid_auto_flow": null,
      "grid_auto_rows": null,
      "grid_column": null,
      "grid_gap": null,
      "grid_row": null,
      "grid_template_areas": null,
      "grid_template_columns": null,
      "grid_template_rows": null,
      "height": null,
      "justify_content": null,
      "justify_items": null,
      "left": null,
      "margin": null,
      "max_height": null,
      "max_width": null,
      "min_height": null,
      "min_width": null,
      "object_fit": null,
      "object_position": null,
      "order": null,
      "overflow": null,
      "overflow_x": null,
      "overflow_y": null,
      "padding": null,
      "right": null,
      "top": null,
      "visibility": null,
      "width": null
     }
    },
    "8ccc3b448bf046ba968d84d2c0364e38": {
     "model_module": "@jupyter-widgets/controls",
     "model_module_version": "1.5.0",
     "model_name": "FloatProgressModel",
     "state": {
      "_dom_classes": [],
      "_model_module": "@jupyter-widgets/controls",
      "_model_module_version": "1.5.0",
      "_model_name": "FloatProgressModel",
      "_view_count": null,
      "_view_module": "@jupyter-widgets/controls",
      "_view_module_version": "1.5.0",
      "_view_name": "ProgressView",
      "bar_style": "success",
      "description": "",
      "description_tooltip": null,
      "layout": "IPY_MODEL_769e975a1b7b4b1fa7b1707e024db48d",
      "max": 159571,
      "min": 0,
      "orientation": "horizontal",
      "style": "IPY_MODEL_961c84fddfbe4c0594ac362b8a83e637",
      "value": 159571
     }
    },
    "93415cdca39b401c852a4dbb9a3c0ec7": {
     "model_module": "@jupyter-widgets/base",
     "model_module_version": "1.2.0",
     "model_name": "LayoutModel",
     "state": {
      "_model_module": "@jupyter-widgets/base",
      "_model_module_version": "1.2.0",
      "_model_name": "LayoutModel",
      "_view_count": null,
      "_view_module": "@jupyter-widgets/base",
      "_view_module_version": "1.2.0",
      "_view_name": "LayoutView",
      "align_content": null,
      "align_items": null,
      "align_self": null,
      "border": null,
      "bottom": null,
      "display": null,
      "flex": null,
      "flex_flow": null,
      "grid_area": null,
      "grid_auto_columns": null,
      "grid_auto_flow": null,
      "grid_auto_rows": null,
      "grid_column": null,
      "grid_gap": null,
      "grid_row": null,
      "grid_template_areas": null,
      "grid_template_columns": null,
      "grid_template_rows": null,
      "height": null,
      "justify_content": null,
      "justify_items": null,
      "left": null,
      "margin": null,
      "max_height": null,
      "max_width": null,
      "min_height": null,
      "min_width": null,
      "object_fit": null,
      "object_position": null,
      "order": null,
      "overflow": null,
      "overflow_x": null,
      "overflow_y": null,
      "padding": null,
      "right": null,
      "top": null,
      "visibility": null,
      "width": null
     }
    },
    "94f4a7c8fe094629aec7a64f78a93941": {
     "model_module": "@jupyter-widgets/controls",
     "model_module_version": "1.5.0",
     "model_name": "DescriptionStyleModel",
     "state": {
      "_model_module": "@jupyter-widgets/controls",
      "_model_module_version": "1.5.0",
      "_model_name": "DescriptionStyleModel",
      "_view_count": null,
      "_view_module": "@jupyter-widgets/base",
      "_view_module_version": "1.2.0",
      "_view_name": "StyleView",
      "description_width": ""
     }
    },
    "961c84fddfbe4c0594ac362b8a83e637": {
     "model_module": "@jupyter-widgets/controls",
     "model_module_version": "1.5.0",
     "model_name": "ProgressStyleModel",
     "state": {
      "_model_module": "@jupyter-widgets/controls",
      "_model_module_version": "1.5.0",
      "_model_name": "ProgressStyleModel",
      "_view_count": null,
      "_view_module": "@jupyter-widgets/base",
      "_view_module_version": "1.2.0",
      "_view_name": "StyleView",
      "bar_color": null,
      "description_width": ""
     }
    },
    "9a41019ce46c4a0ab656f142d9411966": {
     "model_module": "@jupyter-widgets/controls",
     "model_module_version": "1.5.0",
     "model_name": "ProgressStyleModel",
     "state": {
      "_model_module": "@jupyter-widgets/controls",
      "_model_module_version": "1.5.0",
      "_model_name": "ProgressStyleModel",
      "_view_count": null,
      "_view_module": "@jupyter-widgets/base",
      "_view_module_version": "1.2.0",
      "_view_name": "StyleView",
      "bar_color": null,
      "description_width": ""
     }
    },
    "a4ac16d8d7804ed5ba16d385ce2709e1": {
     "model_module": "@jupyter-widgets/controls",
     "model_module_version": "1.5.0",
     "model_name": "DescriptionStyleModel",
     "state": {
      "_model_module": "@jupyter-widgets/controls",
      "_model_module_version": "1.5.0",
      "_model_name": "DescriptionStyleModel",
      "_view_count": null,
      "_view_module": "@jupyter-widgets/base",
      "_view_module_version": "1.2.0",
      "_view_name": "StyleView",
      "description_width": ""
     }
    },
    "abe469d4a98b4448b4b25403706f1406": {
     "model_module": "@jupyter-widgets/base",
     "model_module_version": "1.2.0",
     "model_name": "LayoutModel",
     "state": {
      "_model_module": "@jupyter-widgets/base",
      "_model_module_version": "1.2.0",
      "_model_name": "LayoutModel",
      "_view_count": null,
      "_view_module": "@jupyter-widgets/base",
      "_view_module_version": "1.2.0",
      "_view_name": "LayoutView",
      "align_content": null,
      "align_items": null,
      "align_self": null,
      "border": null,
      "bottom": null,
      "display": null,
      "flex": null,
      "flex_flow": null,
      "grid_area": null,
      "grid_auto_columns": null,
      "grid_auto_flow": null,
      "grid_auto_rows": null,
      "grid_column": null,
      "grid_gap": null,
      "grid_row": null,
      "grid_template_areas": null,
      "grid_template_columns": null,
      "grid_template_rows": null,
      "height": null,
      "justify_content": null,
      "justify_items": null,
      "left": null,
      "margin": null,
      "max_height": null,
      "max_width": null,
      "min_height": null,
      "min_width": null,
      "object_fit": null,
      "object_position": null,
      "order": null,
      "overflow": null,
      "overflow_x": null,
      "overflow_y": null,
      "padding": null,
      "right": null,
      "top": null,
      "visibility": null,
      "width": null
     }
    },
    "b4bf9953c0df490eba45eccc3780aaef": {
     "model_module": "@jupyter-widgets/controls",
     "model_module_version": "1.5.0",
     "model_name": "HTMLModel",
     "state": {
      "_dom_classes": [],
      "_model_module": "@jupyter-widgets/controls",
      "_model_module_version": "1.5.0",
      "_model_name": "HTMLModel",
      "_view_count": null,
      "_view_module": "@jupyter-widgets/controls",
      "_view_module_version": "1.5.0",
      "_view_name": "HTMLView",
      "description": "",
      "description_tooltip": null,
      "layout": "IPY_MODEL_145dba4b3baf4175b4192a4cdda25ce8",
      "placeholder": "​",
      "style": "IPY_MODEL_94f4a7c8fe094629aec7a64f78a93941",
      "value": " 159571/159571 [00:02&lt;00:00, 57360.11it/s]"
     }
    },
    "b6ea9e5bdeb443a482ecce578a91de7f": {
     "model_module": "@jupyter-widgets/controls",
     "model_module_version": "1.5.0",
     "model_name": "DescriptionStyleModel",
     "state": {
      "_model_module": "@jupyter-widgets/controls",
      "_model_module_version": "1.5.0",
      "_model_name": "DescriptionStyleModel",
      "_view_count": null,
      "_view_module": "@jupyter-widgets/base",
      "_view_module_version": "1.2.0",
      "_view_name": "StyleView",
      "description_width": ""
     }
    },
    "b80a008c64f540e3b8db54afe9d47e0d": {
     "model_module": "@jupyter-widgets/controls",
     "model_module_version": "1.5.0",
     "model_name": "DescriptionStyleModel",
     "state": {
      "_model_module": "@jupyter-widgets/controls",
      "_model_module_version": "1.5.0",
      "_model_name": "DescriptionStyleModel",
      "_view_count": null,
      "_view_module": "@jupyter-widgets/base",
      "_view_module_version": "1.2.0",
      "_view_name": "StyleView",
      "description_width": ""
     }
    },
    "bb4dc9185ff240068b00ec7eb8ffdd46": {
     "model_module": "@jupyter-widgets/controls",
     "model_module_version": "1.5.0",
     "model_name": "HBoxModel",
     "state": {
      "_dom_classes": [],
      "_model_module": "@jupyter-widgets/controls",
      "_model_module_version": "1.5.0",
      "_model_name": "HBoxModel",
      "_view_count": null,
      "_view_module": "@jupyter-widgets/controls",
      "_view_module_version": "1.5.0",
      "_view_name": "HBoxView",
      "box_style": "",
      "children": [
       "IPY_MODEL_137f1b0c32e04d4782f42703784f65ea",
       "IPY_MODEL_8ccc3b448bf046ba968d84d2c0364e38",
       "IPY_MODEL_b4bf9953c0df490eba45eccc3780aaef"
      ],
      "layout": "IPY_MODEL_25b7c32ddcc44913b833e7ee4de5f390"
     }
    },
    "ca375d30b2cc4bc5ab9b9963a089ffbc": {
     "model_module": "@jupyter-widgets/controls",
     "model_module_version": "1.5.0",
     "model_name": "HTMLModel",
     "state": {
      "_dom_classes": [],
      "_model_module": "@jupyter-widgets/controls",
      "_model_module_version": "1.5.0",
      "_model_name": "HTMLModel",
      "_view_count": null,
      "_view_module": "@jupyter-widgets/controls",
      "_view_module_version": "1.5.0",
      "_view_name": "HTMLView",
      "description": "",
      "description_tooltip": null,
      "layout": "IPY_MODEL_fa5409a7b75a42e780d7facae8eed97b",
      "placeholder": "​",
      "style": "IPY_MODEL_34ac3c938b4c4155a4cea9e23b3b10bf",
      "value": " 159571/159571 [00:02&lt;00:00, 61280.90it/s]"
     }
    },
    "cccf51d628d448cea54ee75d095f18a3": {
     "model_module": "@jupyter-widgets/base",
     "model_module_version": "1.2.0",
     "model_name": "LayoutModel",
     "state": {
      "_model_module": "@jupyter-widgets/base",
      "_model_module_version": "1.2.0",
      "_model_name": "LayoutModel",
      "_view_count": null,
      "_view_module": "@jupyter-widgets/base",
      "_view_module_version": "1.2.0",
      "_view_name": "LayoutView",
      "align_content": null,
      "align_items": null,
      "align_self": null,
      "border": null,
      "bottom": null,
      "display": null,
      "flex": null,
      "flex_flow": null,
      "grid_area": null,
      "grid_auto_columns": null,
      "grid_auto_flow": null,
      "grid_auto_rows": null,
      "grid_column": null,
      "grid_gap": null,
      "grid_row": null,
      "grid_template_areas": null,
      "grid_template_columns": null,
      "grid_template_rows": null,
      "height": null,
      "justify_content": null,
      "justify_items": null,
      "left": null,
      "margin": null,
      "max_height": null,
      "max_width": null,
      "min_height": null,
      "min_width": null,
      "object_fit": null,
      "object_position": null,
      "order": null,
      "overflow": null,
      "overflow_x": null,
      "overflow_y": null,
      "padding": null,
      "right": null,
      "top": null,
      "visibility": null,
      "width": null
     }
    },
    "db566189934942c2acc4dfc985f8e37a": {
     "model_module": "@jupyter-widgets/base",
     "model_module_version": "1.2.0",
     "model_name": "LayoutModel",
     "state": {
      "_model_module": "@jupyter-widgets/base",
      "_model_module_version": "1.2.0",
      "_model_name": "LayoutModel",
      "_view_count": null,
      "_view_module": "@jupyter-widgets/base",
      "_view_module_version": "1.2.0",
      "_view_name": "LayoutView",
      "align_content": null,
      "align_items": null,
      "align_self": null,
      "border": null,
      "bottom": null,
      "display": null,
      "flex": null,
      "flex_flow": null,
      "grid_area": null,
      "grid_auto_columns": null,
      "grid_auto_flow": null,
      "grid_auto_rows": null,
      "grid_column": null,
      "grid_gap": null,
      "grid_row": null,
      "grid_template_areas": null,
      "grid_template_columns": null,
      "grid_template_rows": null,
      "height": null,
      "justify_content": null,
      "justify_items": null,
      "left": null,
      "margin": null,
      "max_height": null,
      "max_width": null,
      "min_height": null,
      "min_width": null,
      "object_fit": null,
      "object_position": null,
      "order": null,
      "overflow": null,
      "overflow_x": null,
      "overflow_y": null,
      "padding": null,
      "right": null,
      "top": null,
      "visibility": null,
      "width": null
     }
    },
    "dda52b48db8f437ab3156ad14f2680fd": {
     "model_module": "@jupyter-widgets/controls",
     "model_module_version": "1.5.0",
     "model_name": "FloatProgressModel",
     "state": {
      "_dom_classes": [],
      "_model_module": "@jupyter-widgets/controls",
      "_model_module_version": "1.5.0",
      "_model_name": "FloatProgressModel",
      "_view_count": null,
      "_view_module": "@jupyter-widgets/controls",
      "_view_module_version": "1.5.0",
      "_view_name": "ProgressView",
      "bar_style": "success",
      "description": "",
      "description_tooltip": null,
      "layout": "IPY_MODEL_0f1f914f03df4a7284490f8f97efb713",
      "max": 153164,
      "min": 0,
      "orientation": "horizontal",
      "style": "IPY_MODEL_252a810086d645169672f0f8f9bd1906",
      "value": 153164
     }
    },
    "e8ba4cf7f87349c3ac984f1dc6e44bdb": {
     "model_module": "@jupyter-widgets/controls",
     "model_module_version": "1.5.0",
     "model_name": "HTMLModel",
     "state": {
      "_dom_classes": [],
      "_model_module": "@jupyter-widgets/controls",
      "_model_module_version": "1.5.0",
      "_model_name": "HTMLModel",
      "_view_count": null,
      "_view_module": "@jupyter-widgets/controls",
      "_view_module_version": "1.5.0",
      "_view_name": "HTMLView",
      "description": "",
      "description_tooltip": null,
      "layout": "IPY_MODEL_93415cdca39b401c852a4dbb9a3c0ec7",
      "placeholder": "​",
      "style": "IPY_MODEL_a4ac16d8d7804ed5ba16d385ce2709e1",
      "value": "100%"
     }
    },
    "ec420323b3f4435ab3264f74448829f8": {
     "model_module": "@jupyter-widgets/controls",
     "model_module_version": "1.5.0",
     "model_name": "DescriptionStyleModel",
     "state": {
      "_model_module": "@jupyter-widgets/controls",
      "_model_module_version": "1.5.0",
      "_model_name": "DescriptionStyleModel",
      "_view_count": null,
      "_view_module": "@jupyter-widgets/base",
      "_view_module_version": "1.2.0",
      "_view_name": "StyleView",
      "description_width": ""
     }
    },
    "f1471882163441c6940e5cc235ed0e31": {
     "model_module": "@jupyter-widgets/controls",
     "model_module_version": "1.5.0",
     "model_name": "HTMLModel",
     "state": {
      "_dom_classes": [],
      "_model_module": "@jupyter-widgets/controls",
      "_model_module_version": "1.5.0",
      "_model_name": "HTMLModel",
      "_view_count": null,
      "_view_module": "@jupyter-widgets/controls",
      "_view_module_version": "1.5.0",
      "_view_name": "HTMLView",
      "description": "",
      "description_tooltip": null,
      "layout": "IPY_MODEL_3ec0f2f4ac9e46cabbb291d4f3f06908",
      "placeholder": "​",
      "style": "IPY_MODEL_b6ea9e5bdeb443a482ecce578a91de7f",
      "value": " 153164/153164 [02:05&lt;00:00, 1115.22it/s]"
     }
    },
    "f90589325a3346ac840dc8d5a46a8e9c": {
     "model_module": "@jupyter-widgets/base",
     "model_module_version": "1.2.0",
     "model_name": "LayoutModel",
     "state": {
      "_model_module": "@jupyter-widgets/base",
      "_model_module_version": "1.2.0",
      "_model_name": "LayoutModel",
      "_view_count": null,
      "_view_module": "@jupyter-widgets/base",
      "_view_module_version": "1.2.0",
      "_view_name": "LayoutView",
      "align_content": null,
      "align_items": null,
      "align_self": null,
      "border": null,
      "bottom": null,
      "display": null,
      "flex": null,
      "flex_flow": null,
      "grid_area": null,
      "grid_auto_columns": null,
      "grid_auto_flow": null,
      "grid_auto_rows": null,
      "grid_column": null,
      "grid_gap": null,
      "grid_row": null,
      "grid_template_areas": null,
      "grid_template_columns": null,
      "grid_template_rows": null,
      "height": null,
      "justify_content": null,
      "justify_items": null,
      "left": null,
      "margin": null,
      "max_height": null,
      "max_width": null,
      "min_height": null,
      "min_width": null,
      "object_fit": null,
      "object_position": null,
      "order": null,
      "overflow": null,
      "overflow_x": null,
      "overflow_y": null,
      "padding": null,
      "right": null,
      "top": null,
      "visibility": null,
      "width": null
     }
    },
    "fa5409a7b75a42e780d7facae8eed97b": {
     "model_module": "@jupyter-widgets/base",
     "model_module_version": "1.2.0",
     "model_name": "LayoutModel",
     "state": {
      "_model_module": "@jupyter-widgets/base",
      "_model_module_version": "1.2.0",
      "_model_name": "LayoutModel",
      "_view_count": null,
      "_view_module": "@jupyter-widgets/base",
      "_view_module_version": "1.2.0",
      "_view_name": "LayoutView",
      "align_content": null,
      "align_items": null,
      "align_self": null,
      "border": null,
      "bottom": null,
      "display": null,
      "flex": null,
      "flex_flow": null,
      "grid_area": null,
      "grid_auto_columns": null,
      "grid_auto_flow": null,
      "grid_auto_rows": null,
      "grid_column": null,
      "grid_gap": null,
      "grid_row": null,
      "grid_template_areas": null,
      "grid_template_columns": null,
      "grid_template_rows": null,
      "height": null,
      "justify_content": null,
      "justify_items": null,
      "left": null,
      "margin": null,
      "max_height": null,
      "max_width": null,
      "min_height": null,
      "min_width": null,
      "object_fit": null,
      "object_position": null,
      "order": null,
      "overflow": null,
      "overflow_x": null,
      "overflow_y": null,
      "padding": null,
      "right": null,
      "top": null,
      "visibility": null,
      "width": null
     }
    }
   }
  }
 },
 "nbformat": 4,
 "nbformat_minor": 1
}
